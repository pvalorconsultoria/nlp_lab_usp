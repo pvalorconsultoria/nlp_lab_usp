{
  "nbformat": 4,
  "nbformat_minor": 0,
  "metadata": {
    "colab": {
      "provenance": [],
      "toc_visible": true,
      "authorship_tag": "ABX9TyNzvuHmB3cQ1YK8pjVLIPvv",
      "include_colab_link": true
    },
    "language_info": {
      "name": "python"
    },
    "kernelspec": {
      "name": "python3",
      "display_name": "Python 3"
    },
    "gpuClass": "premium",
    "widgets": {
      "application/vnd.jupyter.widget-state+json": {
        "2600f67ad6364a4881b4d4ae7c74bddd": {
          "model_module": "@jupyter-widgets/controls",
          "model_name": "HBoxModel",
          "model_module_version": "1.5.0",
          "state": {
            "_dom_classes": [],
            "_model_module": "@jupyter-widgets/controls",
            "_model_module_version": "1.5.0",
            "_model_name": "HBoxModel",
            "_view_count": null,
            "_view_module": "@jupyter-widgets/controls",
            "_view_module_version": "1.5.0",
            "_view_name": "HBoxView",
            "box_style": "",
            "children": [
              "IPY_MODEL_f738fd13ab524856b55a0ed186dfba86",
              "IPY_MODEL_a03faf95aa5143699424726cee5fa271",
              "IPY_MODEL_5028a2522fc74a9bb54f7c2f2dde9c10"
            ],
            "layout": "IPY_MODEL_dfc373384a624d3b979578cab135d4c0"
          }
        },
        "f738fd13ab524856b55a0ed186dfba86": {
          "model_module": "@jupyter-widgets/controls",
          "model_name": "HTMLModel",
          "model_module_version": "1.5.0",
          "state": {
            "_dom_classes": [],
            "_model_module": "@jupyter-widgets/controls",
            "_model_module_version": "1.5.0",
            "_model_name": "HTMLModel",
            "_view_count": null,
            "_view_module": "@jupyter-widgets/controls",
            "_view_module_version": "1.5.0",
            "_view_name": "HTMLView",
            "description": "",
            "description_tooltip": null,
            "layout": "IPY_MODEL_6897ccdaeaad41f7bd97e225564f52bd",
            "placeholder": "​",
            "style": "IPY_MODEL_a0c7190ccadb40b187df92cb4274e87c",
            "value": "Downloading (…)okenizer_config.json: 100%"
          }
        },
        "a03faf95aa5143699424726cee5fa271": {
          "model_module": "@jupyter-widgets/controls",
          "model_name": "FloatProgressModel",
          "model_module_version": "1.5.0",
          "state": {
            "_dom_classes": [],
            "_model_module": "@jupyter-widgets/controls",
            "_model_module_version": "1.5.0",
            "_model_name": "FloatProgressModel",
            "_view_count": null,
            "_view_module": "@jupyter-widgets/controls",
            "_view_module_version": "1.5.0",
            "_view_name": "ProgressView",
            "bar_style": "success",
            "description": "",
            "description_tooltip": null,
            "layout": "IPY_MODEL_7495ceb0e0194fdf9ab051f7f31fd7ba",
            "max": 29,
            "min": 0,
            "orientation": "horizontal",
            "style": "IPY_MODEL_baaabcbcb4f74646bc5aebb8a984fd65",
            "value": 29
          }
        },
        "5028a2522fc74a9bb54f7c2f2dde9c10": {
          "model_module": "@jupyter-widgets/controls",
          "model_name": "HTMLModel",
          "model_module_version": "1.5.0",
          "state": {
            "_dom_classes": [],
            "_model_module": "@jupyter-widgets/controls",
            "_model_module_version": "1.5.0",
            "_model_name": "HTMLModel",
            "_view_count": null,
            "_view_module": "@jupyter-widgets/controls",
            "_view_module_version": "1.5.0",
            "_view_name": "HTMLView",
            "description": "",
            "description_tooltip": null,
            "layout": "IPY_MODEL_28d65b2285394057be5b6563509f418b",
            "placeholder": "​",
            "style": "IPY_MODEL_4f16ae2656f6431b8cb1c245c7fdeddc",
            "value": " 29.0/29.0 [00:00&lt;00:00, 1.40kB/s]"
          }
        },
        "dfc373384a624d3b979578cab135d4c0": {
          "model_module": "@jupyter-widgets/base",
          "model_name": "LayoutModel",
          "model_module_version": "1.2.0",
          "state": {
            "_model_module": "@jupyter-widgets/base",
            "_model_module_version": "1.2.0",
            "_model_name": "LayoutModel",
            "_view_count": null,
            "_view_module": "@jupyter-widgets/base",
            "_view_module_version": "1.2.0",
            "_view_name": "LayoutView",
            "align_content": null,
            "align_items": null,
            "align_self": null,
            "border": null,
            "bottom": null,
            "display": null,
            "flex": null,
            "flex_flow": null,
            "grid_area": null,
            "grid_auto_columns": null,
            "grid_auto_flow": null,
            "grid_auto_rows": null,
            "grid_column": null,
            "grid_gap": null,
            "grid_row": null,
            "grid_template_areas": null,
            "grid_template_columns": null,
            "grid_template_rows": null,
            "height": null,
            "justify_content": null,
            "justify_items": null,
            "left": null,
            "margin": null,
            "max_height": null,
            "max_width": null,
            "min_height": null,
            "min_width": null,
            "object_fit": null,
            "object_position": null,
            "order": null,
            "overflow": null,
            "overflow_x": null,
            "overflow_y": null,
            "padding": null,
            "right": null,
            "top": null,
            "visibility": null,
            "width": null
          }
        },
        "6897ccdaeaad41f7bd97e225564f52bd": {
          "model_module": "@jupyter-widgets/base",
          "model_name": "LayoutModel",
          "model_module_version": "1.2.0",
          "state": {
            "_model_module": "@jupyter-widgets/base",
            "_model_module_version": "1.2.0",
            "_model_name": "LayoutModel",
            "_view_count": null,
            "_view_module": "@jupyter-widgets/base",
            "_view_module_version": "1.2.0",
            "_view_name": "LayoutView",
            "align_content": null,
            "align_items": null,
            "align_self": null,
            "border": null,
            "bottom": null,
            "display": null,
            "flex": null,
            "flex_flow": null,
            "grid_area": null,
            "grid_auto_columns": null,
            "grid_auto_flow": null,
            "grid_auto_rows": null,
            "grid_column": null,
            "grid_gap": null,
            "grid_row": null,
            "grid_template_areas": null,
            "grid_template_columns": null,
            "grid_template_rows": null,
            "height": null,
            "justify_content": null,
            "justify_items": null,
            "left": null,
            "margin": null,
            "max_height": null,
            "max_width": null,
            "min_height": null,
            "min_width": null,
            "object_fit": null,
            "object_position": null,
            "order": null,
            "overflow": null,
            "overflow_x": null,
            "overflow_y": null,
            "padding": null,
            "right": null,
            "top": null,
            "visibility": null,
            "width": null
          }
        },
        "a0c7190ccadb40b187df92cb4274e87c": {
          "model_module": "@jupyter-widgets/controls",
          "model_name": "DescriptionStyleModel",
          "model_module_version": "1.5.0",
          "state": {
            "_model_module": "@jupyter-widgets/controls",
            "_model_module_version": "1.5.0",
            "_model_name": "DescriptionStyleModel",
            "_view_count": null,
            "_view_module": "@jupyter-widgets/base",
            "_view_module_version": "1.2.0",
            "_view_name": "StyleView",
            "description_width": ""
          }
        },
        "7495ceb0e0194fdf9ab051f7f31fd7ba": {
          "model_module": "@jupyter-widgets/base",
          "model_name": "LayoutModel",
          "model_module_version": "1.2.0",
          "state": {
            "_model_module": "@jupyter-widgets/base",
            "_model_module_version": "1.2.0",
            "_model_name": "LayoutModel",
            "_view_count": null,
            "_view_module": "@jupyter-widgets/base",
            "_view_module_version": "1.2.0",
            "_view_name": "LayoutView",
            "align_content": null,
            "align_items": null,
            "align_self": null,
            "border": null,
            "bottom": null,
            "display": null,
            "flex": null,
            "flex_flow": null,
            "grid_area": null,
            "grid_auto_columns": null,
            "grid_auto_flow": null,
            "grid_auto_rows": null,
            "grid_column": null,
            "grid_gap": null,
            "grid_row": null,
            "grid_template_areas": null,
            "grid_template_columns": null,
            "grid_template_rows": null,
            "height": null,
            "justify_content": null,
            "justify_items": null,
            "left": null,
            "margin": null,
            "max_height": null,
            "max_width": null,
            "min_height": null,
            "min_width": null,
            "object_fit": null,
            "object_position": null,
            "order": null,
            "overflow": null,
            "overflow_x": null,
            "overflow_y": null,
            "padding": null,
            "right": null,
            "top": null,
            "visibility": null,
            "width": null
          }
        },
        "baaabcbcb4f74646bc5aebb8a984fd65": {
          "model_module": "@jupyter-widgets/controls",
          "model_name": "ProgressStyleModel",
          "model_module_version": "1.5.0",
          "state": {
            "_model_module": "@jupyter-widgets/controls",
            "_model_module_version": "1.5.0",
            "_model_name": "ProgressStyleModel",
            "_view_count": null,
            "_view_module": "@jupyter-widgets/base",
            "_view_module_version": "1.2.0",
            "_view_name": "StyleView",
            "bar_color": null,
            "description_width": ""
          }
        },
        "28d65b2285394057be5b6563509f418b": {
          "model_module": "@jupyter-widgets/base",
          "model_name": "LayoutModel",
          "model_module_version": "1.2.0",
          "state": {
            "_model_module": "@jupyter-widgets/base",
            "_model_module_version": "1.2.0",
            "_model_name": "LayoutModel",
            "_view_count": null,
            "_view_module": "@jupyter-widgets/base",
            "_view_module_version": "1.2.0",
            "_view_name": "LayoutView",
            "align_content": null,
            "align_items": null,
            "align_self": null,
            "border": null,
            "bottom": null,
            "display": null,
            "flex": null,
            "flex_flow": null,
            "grid_area": null,
            "grid_auto_columns": null,
            "grid_auto_flow": null,
            "grid_auto_rows": null,
            "grid_column": null,
            "grid_gap": null,
            "grid_row": null,
            "grid_template_areas": null,
            "grid_template_columns": null,
            "grid_template_rows": null,
            "height": null,
            "justify_content": null,
            "justify_items": null,
            "left": null,
            "margin": null,
            "max_height": null,
            "max_width": null,
            "min_height": null,
            "min_width": null,
            "object_fit": null,
            "object_position": null,
            "order": null,
            "overflow": null,
            "overflow_x": null,
            "overflow_y": null,
            "padding": null,
            "right": null,
            "top": null,
            "visibility": null,
            "width": null
          }
        },
        "4f16ae2656f6431b8cb1c245c7fdeddc": {
          "model_module": "@jupyter-widgets/controls",
          "model_name": "DescriptionStyleModel",
          "model_module_version": "1.5.0",
          "state": {
            "_model_module": "@jupyter-widgets/controls",
            "_model_module_version": "1.5.0",
            "_model_name": "DescriptionStyleModel",
            "_view_count": null,
            "_view_module": "@jupyter-widgets/base",
            "_view_module_version": "1.2.0",
            "_view_name": "StyleView",
            "description_width": ""
          }
        },
        "73ab17e5cf2447cca0ca6af4af358eb9": {
          "model_module": "@jupyter-widgets/controls",
          "model_name": "HBoxModel",
          "model_module_version": "1.5.0",
          "state": {
            "_dom_classes": [],
            "_model_module": "@jupyter-widgets/controls",
            "_model_module_version": "1.5.0",
            "_model_name": "HBoxModel",
            "_view_count": null,
            "_view_module": "@jupyter-widgets/controls",
            "_view_module_version": "1.5.0",
            "_view_name": "HBoxView",
            "box_style": "",
            "children": [
              "IPY_MODEL_d81147dfe3e54f28a9d5dc0ea59583fe",
              "IPY_MODEL_de2f7927c009467cbd176f3d81066931",
              "IPY_MODEL_df7678182bf44a79bb7d9094919c0933"
            ],
            "layout": "IPY_MODEL_240f34b0af9a46f295700475deae91b1"
          }
        },
        "d81147dfe3e54f28a9d5dc0ea59583fe": {
          "model_module": "@jupyter-widgets/controls",
          "model_name": "HTMLModel",
          "model_module_version": "1.5.0",
          "state": {
            "_dom_classes": [],
            "_model_module": "@jupyter-widgets/controls",
            "_model_module_version": "1.5.0",
            "_model_name": "HTMLModel",
            "_view_count": null,
            "_view_module": "@jupyter-widgets/controls",
            "_view_module_version": "1.5.0",
            "_view_name": "HTMLView",
            "description": "",
            "description_tooltip": null,
            "layout": "IPY_MODEL_f1107d949a1741a0a58a0dd3a8d305de",
            "placeholder": "​",
            "style": "IPY_MODEL_a6e02d75083e48eb8283abe22027193c",
            "value": "Downloading (…)lve/main/config.json: 100%"
          }
        },
        "de2f7927c009467cbd176f3d81066931": {
          "model_module": "@jupyter-widgets/controls",
          "model_name": "FloatProgressModel",
          "model_module_version": "1.5.0",
          "state": {
            "_dom_classes": [],
            "_model_module": "@jupyter-widgets/controls",
            "_model_module_version": "1.5.0",
            "_model_name": "FloatProgressModel",
            "_view_count": null,
            "_view_module": "@jupyter-widgets/controls",
            "_view_module_version": "1.5.0",
            "_view_name": "ProgressView",
            "bar_style": "success",
            "description": "",
            "description_tooltip": null,
            "layout": "IPY_MODEL_39a0b2c0f697473bb87d7f9153bd0af6",
            "max": 624,
            "min": 0,
            "orientation": "horizontal",
            "style": "IPY_MODEL_9d8263964f05420f882309ebf2185440",
            "value": 624
          }
        },
        "df7678182bf44a79bb7d9094919c0933": {
          "model_module": "@jupyter-widgets/controls",
          "model_name": "HTMLModel",
          "model_module_version": "1.5.0",
          "state": {
            "_dom_classes": [],
            "_model_module": "@jupyter-widgets/controls",
            "_model_module_version": "1.5.0",
            "_model_name": "HTMLModel",
            "_view_count": null,
            "_view_module": "@jupyter-widgets/controls",
            "_view_module_version": "1.5.0",
            "_view_name": "HTMLView",
            "description": "",
            "description_tooltip": null,
            "layout": "IPY_MODEL_9e0cde171aba4860a37897d003b3a72f",
            "placeholder": "​",
            "style": "IPY_MODEL_1d677f9671664ba593630109f2fb2d6c",
            "value": " 624/624 [00:00&lt;00:00, 33.8kB/s]"
          }
        },
        "240f34b0af9a46f295700475deae91b1": {
          "model_module": "@jupyter-widgets/base",
          "model_name": "LayoutModel",
          "model_module_version": "1.2.0",
          "state": {
            "_model_module": "@jupyter-widgets/base",
            "_model_module_version": "1.2.0",
            "_model_name": "LayoutModel",
            "_view_count": null,
            "_view_module": "@jupyter-widgets/base",
            "_view_module_version": "1.2.0",
            "_view_name": "LayoutView",
            "align_content": null,
            "align_items": null,
            "align_self": null,
            "border": null,
            "bottom": null,
            "display": null,
            "flex": null,
            "flex_flow": null,
            "grid_area": null,
            "grid_auto_columns": null,
            "grid_auto_flow": null,
            "grid_auto_rows": null,
            "grid_column": null,
            "grid_gap": null,
            "grid_row": null,
            "grid_template_areas": null,
            "grid_template_columns": null,
            "grid_template_rows": null,
            "height": null,
            "justify_content": null,
            "justify_items": null,
            "left": null,
            "margin": null,
            "max_height": null,
            "max_width": null,
            "min_height": null,
            "min_width": null,
            "object_fit": null,
            "object_position": null,
            "order": null,
            "overflow": null,
            "overflow_x": null,
            "overflow_y": null,
            "padding": null,
            "right": null,
            "top": null,
            "visibility": null,
            "width": null
          }
        },
        "f1107d949a1741a0a58a0dd3a8d305de": {
          "model_module": "@jupyter-widgets/base",
          "model_name": "LayoutModel",
          "model_module_version": "1.2.0",
          "state": {
            "_model_module": "@jupyter-widgets/base",
            "_model_module_version": "1.2.0",
            "_model_name": "LayoutModel",
            "_view_count": null,
            "_view_module": "@jupyter-widgets/base",
            "_view_module_version": "1.2.0",
            "_view_name": "LayoutView",
            "align_content": null,
            "align_items": null,
            "align_self": null,
            "border": null,
            "bottom": null,
            "display": null,
            "flex": null,
            "flex_flow": null,
            "grid_area": null,
            "grid_auto_columns": null,
            "grid_auto_flow": null,
            "grid_auto_rows": null,
            "grid_column": null,
            "grid_gap": null,
            "grid_row": null,
            "grid_template_areas": null,
            "grid_template_columns": null,
            "grid_template_rows": null,
            "height": null,
            "justify_content": null,
            "justify_items": null,
            "left": null,
            "margin": null,
            "max_height": null,
            "max_width": null,
            "min_height": null,
            "min_width": null,
            "object_fit": null,
            "object_position": null,
            "order": null,
            "overflow": null,
            "overflow_x": null,
            "overflow_y": null,
            "padding": null,
            "right": null,
            "top": null,
            "visibility": null,
            "width": null
          }
        },
        "a6e02d75083e48eb8283abe22027193c": {
          "model_module": "@jupyter-widgets/controls",
          "model_name": "DescriptionStyleModel",
          "model_module_version": "1.5.0",
          "state": {
            "_model_module": "@jupyter-widgets/controls",
            "_model_module_version": "1.5.0",
            "_model_name": "DescriptionStyleModel",
            "_view_count": null,
            "_view_module": "@jupyter-widgets/base",
            "_view_module_version": "1.2.0",
            "_view_name": "StyleView",
            "description_width": ""
          }
        },
        "39a0b2c0f697473bb87d7f9153bd0af6": {
          "model_module": "@jupyter-widgets/base",
          "model_name": "LayoutModel",
          "model_module_version": "1.2.0",
          "state": {
            "_model_module": "@jupyter-widgets/base",
            "_model_module_version": "1.2.0",
            "_model_name": "LayoutModel",
            "_view_count": null,
            "_view_module": "@jupyter-widgets/base",
            "_view_module_version": "1.2.0",
            "_view_name": "LayoutView",
            "align_content": null,
            "align_items": null,
            "align_self": null,
            "border": null,
            "bottom": null,
            "display": null,
            "flex": null,
            "flex_flow": null,
            "grid_area": null,
            "grid_auto_columns": null,
            "grid_auto_flow": null,
            "grid_auto_rows": null,
            "grid_column": null,
            "grid_gap": null,
            "grid_row": null,
            "grid_template_areas": null,
            "grid_template_columns": null,
            "grid_template_rows": null,
            "height": null,
            "justify_content": null,
            "justify_items": null,
            "left": null,
            "margin": null,
            "max_height": null,
            "max_width": null,
            "min_height": null,
            "min_width": null,
            "object_fit": null,
            "object_position": null,
            "order": null,
            "overflow": null,
            "overflow_x": null,
            "overflow_y": null,
            "padding": null,
            "right": null,
            "top": null,
            "visibility": null,
            "width": null
          }
        },
        "9d8263964f05420f882309ebf2185440": {
          "model_module": "@jupyter-widgets/controls",
          "model_name": "ProgressStyleModel",
          "model_module_version": "1.5.0",
          "state": {
            "_model_module": "@jupyter-widgets/controls",
            "_model_module_version": "1.5.0",
            "_model_name": "ProgressStyleModel",
            "_view_count": null,
            "_view_module": "@jupyter-widgets/base",
            "_view_module_version": "1.2.0",
            "_view_name": "StyleView",
            "bar_color": null,
            "description_width": ""
          }
        },
        "9e0cde171aba4860a37897d003b3a72f": {
          "model_module": "@jupyter-widgets/base",
          "model_name": "LayoutModel",
          "model_module_version": "1.2.0",
          "state": {
            "_model_module": "@jupyter-widgets/base",
            "_model_module_version": "1.2.0",
            "_model_name": "LayoutModel",
            "_view_count": null,
            "_view_module": "@jupyter-widgets/base",
            "_view_module_version": "1.2.0",
            "_view_name": "LayoutView",
            "align_content": null,
            "align_items": null,
            "align_self": null,
            "border": null,
            "bottom": null,
            "display": null,
            "flex": null,
            "flex_flow": null,
            "grid_area": null,
            "grid_auto_columns": null,
            "grid_auto_flow": null,
            "grid_auto_rows": null,
            "grid_column": null,
            "grid_gap": null,
            "grid_row": null,
            "grid_template_areas": null,
            "grid_template_columns": null,
            "grid_template_rows": null,
            "height": null,
            "justify_content": null,
            "justify_items": null,
            "left": null,
            "margin": null,
            "max_height": null,
            "max_width": null,
            "min_height": null,
            "min_width": null,
            "object_fit": null,
            "object_position": null,
            "order": null,
            "overflow": null,
            "overflow_x": null,
            "overflow_y": null,
            "padding": null,
            "right": null,
            "top": null,
            "visibility": null,
            "width": null
          }
        },
        "1d677f9671664ba593630109f2fb2d6c": {
          "model_module": "@jupyter-widgets/controls",
          "model_name": "DescriptionStyleModel",
          "model_module_version": "1.5.0",
          "state": {
            "_model_module": "@jupyter-widgets/controls",
            "_model_module_version": "1.5.0",
            "_model_name": "DescriptionStyleModel",
            "_view_count": null,
            "_view_module": "@jupyter-widgets/base",
            "_view_module_version": "1.2.0",
            "_view_name": "StyleView",
            "description_width": ""
          }
        },
        "a4b90603f9904ec0bfab6eed9eef926f": {
          "model_module": "@jupyter-widgets/controls",
          "model_name": "HBoxModel",
          "model_module_version": "1.5.0",
          "state": {
            "_dom_classes": [],
            "_model_module": "@jupyter-widgets/controls",
            "_model_module_version": "1.5.0",
            "_model_name": "HBoxModel",
            "_view_count": null,
            "_view_module": "@jupyter-widgets/controls",
            "_view_module_version": "1.5.0",
            "_view_name": "HBoxView",
            "box_style": "",
            "children": [
              "IPY_MODEL_ab3cb2471a13484a8344d7b8c5eb81ec",
              "IPY_MODEL_70c6bc0a85d44fc09c326980f97bc807",
              "IPY_MODEL_2a29eb80caaa4a04a66b81996d97153a"
            ],
            "layout": "IPY_MODEL_ed6d717865d44fd18d6835728a1844e7"
          }
        },
        "ab3cb2471a13484a8344d7b8c5eb81ec": {
          "model_module": "@jupyter-widgets/controls",
          "model_name": "HTMLModel",
          "model_module_version": "1.5.0",
          "state": {
            "_dom_classes": [],
            "_model_module": "@jupyter-widgets/controls",
            "_model_module_version": "1.5.0",
            "_model_name": "HTMLModel",
            "_view_count": null,
            "_view_module": "@jupyter-widgets/controls",
            "_view_module_version": "1.5.0",
            "_view_name": "HTMLView",
            "description": "",
            "description_tooltip": null,
            "layout": "IPY_MODEL_de8c78325f5a413593d8b794150d428a",
            "placeholder": "​",
            "style": "IPY_MODEL_78379246a172496797718854358299ce",
            "value": "Downloading (…)solve/main/vocab.txt: 100%"
          }
        },
        "70c6bc0a85d44fc09c326980f97bc807": {
          "model_module": "@jupyter-widgets/controls",
          "model_name": "FloatProgressModel",
          "model_module_version": "1.5.0",
          "state": {
            "_dom_classes": [],
            "_model_module": "@jupyter-widgets/controls",
            "_model_module_version": "1.5.0",
            "_model_name": "FloatProgressModel",
            "_view_count": null,
            "_view_module": "@jupyter-widgets/controls",
            "_view_module_version": "1.5.0",
            "_view_name": "ProgressView",
            "bar_style": "success",
            "description": "",
            "description_tooltip": null,
            "layout": "IPY_MODEL_b3813c3a51f8449099d12b611b7b4d52",
            "max": 109540,
            "min": 0,
            "orientation": "horizontal",
            "style": "IPY_MODEL_d227f7a6b1c94b85b4a9063367f8aaa7",
            "value": 109540
          }
        },
        "2a29eb80caaa4a04a66b81996d97153a": {
          "model_module": "@jupyter-widgets/controls",
          "model_name": "HTMLModel",
          "model_module_version": "1.5.0",
          "state": {
            "_dom_classes": [],
            "_model_module": "@jupyter-widgets/controls",
            "_model_module_version": "1.5.0",
            "_model_name": "HTMLModel",
            "_view_count": null,
            "_view_module": "@jupyter-widgets/controls",
            "_view_module_version": "1.5.0",
            "_view_name": "HTMLView",
            "description": "",
            "description_tooltip": null,
            "layout": "IPY_MODEL_7305b36745a34b04acf13d7d1b363aba",
            "placeholder": "​",
            "style": "IPY_MODEL_52225752666344ae92afcc40088cf697",
            "value": " 110k/110k [00:00&lt;00:00, 597kB/s]"
          }
        },
        "ed6d717865d44fd18d6835728a1844e7": {
          "model_module": "@jupyter-widgets/base",
          "model_name": "LayoutModel",
          "model_module_version": "1.2.0",
          "state": {
            "_model_module": "@jupyter-widgets/base",
            "_model_module_version": "1.2.0",
            "_model_name": "LayoutModel",
            "_view_count": null,
            "_view_module": "@jupyter-widgets/base",
            "_view_module_version": "1.2.0",
            "_view_name": "LayoutView",
            "align_content": null,
            "align_items": null,
            "align_self": null,
            "border": null,
            "bottom": null,
            "display": null,
            "flex": null,
            "flex_flow": null,
            "grid_area": null,
            "grid_auto_columns": null,
            "grid_auto_flow": null,
            "grid_auto_rows": null,
            "grid_column": null,
            "grid_gap": null,
            "grid_row": null,
            "grid_template_areas": null,
            "grid_template_columns": null,
            "grid_template_rows": null,
            "height": null,
            "justify_content": null,
            "justify_items": null,
            "left": null,
            "margin": null,
            "max_height": null,
            "max_width": null,
            "min_height": null,
            "min_width": null,
            "object_fit": null,
            "object_position": null,
            "order": null,
            "overflow": null,
            "overflow_x": null,
            "overflow_y": null,
            "padding": null,
            "right": null,
            "top": null,
            "visibility": null,
            "width": null
          }
        },
        "de8c78325f5a413593d8b794150d428a": {
          "model_module": "@jupyter-widgets/base",
          "model_name": "LayoutModel",
          "model_module_version": "1.2.0",
          "state": {
            "_model_module": "@jupyter-widgets/base",
            "_model_module_version": "1.2.0",
            "_model_name": "LayoutModel",
            "_view_count": null,
            "_view_module": "@jupyter-widgets/base",
            "_view_module_version": "1.2.0",
            "_view_name": "LayoutView",
            "align_content": null,
            "align_items": null,
            "align_self": null,
            "border": null,
            "bottom": null,
            "display": null,
            "flex": null,
            "flex_flow": null,
            "grid_area": null,
            "grid_auto_columns": null,
            "grid_auto_flow": null,
            "grid_auto_rows": null,
            "grid_column": null,
            "grid_gap": null,
            "grid_row": null,
            "grid_template_areas": null,
            "grid_template_columns": null,
            "grid_template_rows": null,
            "height": null,
            "justify_content": null,
            "justify_items": null,
            "left": null,
            "margin": null,
            "max_height": null,
            "max_width": null,
            "min_height": null,
            "min_width": null,
            "object_fit": null,
            "object_position": null,
            "order": null,
            "overflow": null,
            "overflow_x": null,
            "overflow_y": null,
            "padding": null,
            "right": null,
            "top": null,
            "visibility": null,
            "width": null
          }
        },
        "78379246a172496797718854358299ce": {
          "model_module": "@jupyter-widgets/controls",
          "model_name": "DescriptionStyleModel",
          "model_module_version": "1.5.0",
          "state": {
            "_model_module": "@jupyter-widgets/controls",
            "_model_module_version": "1.5.0",
            "_model_name": "DescriptionStyleModel",
            "_view_count": null,
            "_view_module": "@jupyter-widgets/base",
            "_view_module_version": "1.2.0",
            "_view_name": "StyleView",
            "description_width": ""
          }
        },
        "b3813c3a51f8449099d12b611b7b4d52": {
          "model_module": "@jupyter-widgets/base",
          "model_name": "LayoutModel",
          "model_module_version": "1.2.0",
          "state": {
            "_model_module": "@jupyter-widgets/base",
            "_model_module_version": "1.2.0",
            "_model_name": "LayoutModel",
            "_view_count": null,
            "_view_module": "@jupyter-widgets/base",
            "_view_module_version": "1.2.0",
            "_view_name": "LayoutView",
            "align_content": null,
            "align_items": null,
            "align_self": null,
            "border": null,
            "bottom": null,
            "display": null,
            "flex": null,
            "flex_flow": null,
            "grid_area": null,
            "grid_auto_columns": null,
            "grid_auto_flow": null,
            "grid_auto_rows": null,
            "grid_column": null,
            "grid_gap": null,
            "grid_row": null,
            "grid_template_areas": null,
            "grid_template_columns": null,
            "grid_template_rows": null,
            "height": null,
            "justify_content": null,
            "justify_items": null,
            "left": null,
            "margin": null,
            "max_height": null,
            "max_width": null,
            "min_height": null,
            "min_width": null,
            "object_fit": null,
            "object_position": null,
            "order": null,
            "overflow": null,
            "overflow_x": null,
            "overflow_y": null,
            "padding": null,
            "right": null,
            "top": null,
            "visibility": null,
            "width": null
          }
        },
        "d227f7a6b1c94b85b4a9063367f8aaa7": {
          "model_module": "@jupyter-widgets/controls",
          "model_name": "ProgressStyleModel",
          "model_module_version": "1.5.0",
          "state": {
            "_model_module": "@jupyter-widgets/controls",
            "_model_module_version": "1.5.0",
            "_model_name": "ProgressStyleModel",
            "_view_count": null,
            "_view_module": "@jupyter-widgets/base",
            "_view_module_version": "1.2.0",
            "_view_name": "StyleView",
            "bar_color": null,
            "description_width": ""
          }
        },
        "7305b36745a34b04acf13d7d1b363aba": {
          "model_module": "@jupyter-widgets/base",
          "model_name": "LayoutModel",
          "model_module_version": "1.2.0",
          "state": {
            "_model_module": "@jupyter-widgets/base",
            "_model_module_version": "1.2.0",
            "_model_name": "LayoutModel",
            "_view_count": null,
            "_view_module": "@jupyter-widgets/base",
            "_view_module_version": "1.2.0",
            "_view_name": "LayoutView",
            "align_content": null,
            "align_items": null,
            "align_self": null,
            "border": null,
            "bottom": null,
            "display": null,
            "flex": null,
            "flex_flow": null,
            "grid_area": null,
            "grid_auto_columns": null,
            "grid_auto_flow": null,
            "grid_auto_rows": null,
            "grid_column": null,
            "grid_gap": null,
            "grid_row": null,
            "grid_template_areas": null,
            "grid_template_columns": null,
            "grid_template_rows": null,
            "height": null,
            "justify_content": null,
            "justify_items": null,
            "left": null,
            "margin": null,
            "max_height": null,
            "max_width": null,
            "min_height": null,
            "min_width": null,
            "object_fit": null,
            "object_position": null,
            "order": null,
            "overflow": null,
            "overflow_x": null,
            "overflow_y": null,
            "padding": null,
            "right": null,
            "top": null,
            "visibility": null,
            "width": null
          }
        },
        "52225752666344ae92afcc40088cf697": {
          "model_module": "@jupyter-widgets/controls",
          "model_name": "DescriptionStyleModel",
          "model_module_version": "1.5.0",
          "state": {
            "_model_module": "@jupyter-widgets/controls",
            "_model_module_version": "1.5.0",
            "_model_name": "DescriptionStyleModel",
            "_view_count": null,
            "_view_module": "@jupyter-widgets/base",
            "_view_module_version": "1.2.0",
            "_view_name": "StyleView",
            "description_width": ""
          }
        },
        "335d18e5c01748b785f4c558ffb0f5b5": {
          "model_module": "@jupyter-widgets/controls",
          "model_name": "HBoxModel",
          "model_module_version": "1.5.0",
          "state": {
            "_dom_classes": [],
            "_model_module": "@jupyter-widgets/controls",
            "_model_module_version": "1.5.0",
            "_model_name": "HBoxModel",
            "_view_count": null,
            "_view_module": "@jupyter-widgets/controls",
            "_view_module_version": "1.5.0",
            "_view_name": "HBoxView",
            "box_style": "",
            "children": [
              "IPY_MODEL_96ddb170373040519d4053ef7de348de",
              "IPY_MODEL_5257c89dfe234352aa2a030dede0757d",
              "IPY_MODEL_268b99a03ec44819a86014645735fc34"
            ],
            "layout": "IPY_MODEL_4282f41db947442aa119f7417ba5c146"
          }
        },
        "96ddb170373040519d4053ef7de348de": {
          "model_module": "@jupyter-widgets/controls",
          "model_name": "HTMLModel",
          "model_module_version": "1.5.0",
          "state": {
            "_dom_classes": [],
            "_model_module": "@jupyter-widgets/controls",
            "_model_module_version": "1.5.0",
            "_model_name": "HTMLModel",
            "_view_count": null,
            "_view_module": "@jupyter-widgets/controls",
            "_view_module_version": "1.5.0",
            "_view_name": "HTMLView",
            "description": "",
            "description_tooltip": null,
            "layout": "IPY_MODEL_ec0275f1750b4c7b938a36fb287b53fa",
            "placeholder": "​",
            "style": "IPY_MODEL_50aea7db5f8a49b99bc9223665c81a52",
            "value": "Downloading (…)/main/tokenizer.json: 100%"
          }
        },
        "5257c89dfe234352aa2a030dede0757d": {
          "model_module": "@jupyter-widgets/controls",
          "model_name": "FloatProgressModel",
          "model_module_version": "1.5.0",
          "state": {
            "_dom_classes": [],
            "_model_module": "@jupyter-widgets/controls",
            "_model_module_version": "1.5.0",
            "_model_name": "FloatProgressModel",
            "_view_count": null,
            "_view_module": "@jupyter-widgets/controls",
            "_view_module_version": "1.5.0",
            "_view_name": "ProgressView",
            "bar_style": "success",
            "description": "",
            "description_tooltip": null,
            "layout": "IPY_MODEL_21989a3a96314b28b62c9debc5ea3a1d",
            "max": 268943,
            "min": 0,
            "orientation": "horizontal",
            "style": "IPY_MODEL_faecb3b0ad924ddba1ad9ccb3f44aea5",
            "value": 268943
          }
        },
        "268b99a03ec44819a86014645735fc34": {
          "model_module": "@jupyter-widgets/controls",
          "model_name": "HTMLModel",
          "model_module_version": "1.5.0",
          "state": {
            "_dom_classes": [],
            "_model_module": "@jupyter-widgets/controls",
            "_model_module_version": "1.5.0",
            "_model_name": "HTMLModel",
            "_view_count": null,
            "_view_module": "@jupyter-widgets/controls",
            "_view_module_version": "1.5.0",
            "_view_name": "HTMLView",
            "description": "",
            "description_tooltip": null,
            "layout": "IPY_MODEL_f2791a6265aa4f779c07fe8b954b90eb",
            "placeholder": "​",
            "style": "IPY_MODEL_aa36d8efff844d9cbbf0707a855df1e7",
            "value": " 269k/269k [00:00&lt;00:00, 1.37MB/s]"
          }
        },
        "4282f41db947442aa119f7417ba5c146": {
          "model_module": "@jupyter-widgets/base",
          "model_name": "LayoutModel",
          "model_module_version": "1.2.0",
          "state": {
            "_model_module": "@jupyter-widgets/base",
            "_model_module_version": "1.2.0",
            "_model_name": "LayoutModel",
            "_view_count": null,
            "_view_module": "@jupyter-widgets/base",
            "_view_module_version": "1.2.0",
            "_view_name": "LayoutView",
            "align_content": null,
            "align_items": null,
            "align_self": null,
            "border": null,
            "bottom": null,
            "display": null,
            "flex": null,
            "flex_flow": null,
            "grid_area": null,
            "grid_auto_columns": null,
            "grid_auto_flow": null,
            "grid_auto_rows": null,
            "grid_column": null,
            "grid_gap": null,
            "grid_row": null,
            "grid_template_areas": null,
            "grid_template_columns": null,
            "grid_template_rows": null,
            "height": null,
            "justify_content": null,
            "justify_items": null,
            "left": null,
            "margin": null,
            "max_height": null,
            "max_width": null,
            "min_height": null,
            "min_width": null,
            "object_fit": null,
            "object_position": null,
            "order": null,
            "overflow": null,
            "overflow_x": null,
            "overflow_y": null,
            "padding": null,
            "right": null,
            "top": null,
            "visibility": null,
            "width": null
          }
        },
        "ec0275f1750b4c7b938a36fb287b53fa": {
          "model_module": "@jupyter-widgets/base",
          "model_name": "LayoutModel",
          "model_module_version": "1.2.0",
          "state": {
            "_model_module": "@jupyter-widgets/base",
            "_model_module_version": "1.2.0",
            "_model_name": "LayoutModel",
            "_view_count": null,
            "_view_module": "@jupyter-widgets/base",
            "_view_module_version": "1.2.0",
            "_view_name": "LayoutView",
            "align_content": null,
            "align_items": null,
            "align_self": null,
            "border": null,
            "bottom": null,
            "display": null,
            "flex": null,
            "flex_flow": null,
            "grid_area": null,
            "grid_auto_columns": null,
            "grid_auto_flow": null,
            "grid_auto_rows": null,
            "grid_column": null,
            "grid_gap": null,
            "grid_row": null,
            "grid_template_areas": null,
            "grid_template_columns": null,
            "grid_template_rows": null,
            "height": null,
            "justify_content": null,
            "justify_items": null,
            "left": null,
            "margin": null,
            "max_height": null,
            "max_width": null,
            "min_height": null,
            "min_width": null,
            "object_fit": null,
            "object_position": null,
            "order": null,
            "overflow": null,
            "overflow_x": null,
            "overflow_y": null,
            "padding": null,
            "right": null,
            "top": null,
            "visibility": null,
            "width": null
          }
        },
        "50aea7db5f8a49b99bc9223665c81a52": {
          "model_module": "@jupyter-widgets/controls",
          "model_name": "DescriptionStyleModel",
          "model_module_version": "1.5.0",
          "state": {
            "_model_module": "@jupyter-widgets/controls",
            "_model_module_version": "1.5.0",
            "_model_name": "DescriptionStyleModel",
            "_view_count": null,
            "_view_module": "@jupyter-widgets/base",
            "_view_module_version": "1.2.0",
            "_view_name": "StyleView",
            "description_width": ""
          }
        },
        "21989a3a96314b28b62c9debc5ea3a1d": {
          "model_module": "@jupyter-widgets/base",
          "model_name": "LayoutModel",
          "model_module_version": "1.2.0",
          "state": {
            "_model_module": "@jupyter-widgets/base",
            "_model_module_version": "1.2.0",
            "_model_name": "LayoutModel",
            "_view_count": null,
            "_view_module": "@jupyter-widgets/base",
            "_view_module_version": "1.2.0",
            "_view_name": "LayoutView",
            "align_content": null,
            "align_items": null,
            "align_self": null,
            "border": null,
            "bottom": null,
            "display": null,
            "flex": null,
            "flex_flow": null,
            "grid_area": null,
            "grid_auto_columns": null,
            "grid_auto_flow": null,
            "grid_auto_rows": null,
            "grid_column": null,
            "grid_gap": null,
            "grid_row": null,
            "grid_template_areas": null,
            "grid_template_columns": null,
            "grid_template_rows": null,
            "height": null,
            "justify_content": null,
            "justify_items": null,
            "left": null,
            "margin": null,
            "max_height": null,
            "max_width": null,
            "min_height": null,
            "min_width": null,
            "object_fit": null,
            "object_position": null,
            "order": null,
            "overflow": null,
            "overflow_x": null,
            "overflow_y": null,
            "padding": null,
            "right": null,
            "top": null,
            "visibility": null,
            "width": null
          }
        },
        "faecb3b0ad924ddba1ad9ccb3f44aea5": {
          "model_module": "@jupyter-widgets/controls",
          "model_name": "ProgressStyleModel",
          "model_module_version": "1.5.0",
          "state": {
            "_model_module": "@jupyter-widgets/controls",
            "_model_module_version": "1.5.0",
            "_model_name": "ProgressStyleModel",
            "_view_count": null,
            "_view_module": "@jupyter-widgets/base",
            "_view_module_version": "1.2.0",
            "_view_name": "StyleView",
            "bar_color": null,
            "description_width": ""
          }
        },
        "f2791a6265aa4f779c07fe8b954b90eb": {
          "model_module": "@jupyter-widgets/base",
          "model_name": "LayoutModel",
          "model_module_version": "1.2.0",
          "state": {
            "_model_module": "@jupyter-widgets/base",
            "_model_module_version": "1.2.0",
            "_model_name": "LayoutModel",
            "_view_count": null,
            "_view_module": "@jupyter-widgets/base",
            "_view_module_version": "1.2.0",
            "_view_name": "LayoutView",
            "align_content": null,
            "align_items": null,
            "align_self": null,
            "border": null,
            "bottom": null,
            "display": null,
            "flex": null,
            "flex_flow": null,
            "grid_area": null,
            "grid_auto_columns": null,
            "grid_auto_flow": null,
            "grid_auto_rows": null,
            "grid_column": null,
            "grid_gap": null,
            "grid_row": null,
            "grid_template_areas": null,
            "grid_template_columns": null,
            "grid_template_rows": null,
            "height": null,
            "justify_content": null,
            "justify_items": null,
            "left": null,
            "margin": null,
            "max_height": null,
            "max_width": null,
            "min_height": null,
            "min_width": null,
            "object_fit": null,
            "object_position": null,
            "order": null,
            "overflow": null,
            "overflow_x": null,
            "overflow_y": null,
            "padding": null,
            "right": null,
            "top": null,
            "visibility": null,
            "width": null
          }
        },
        "aa36d8efff844d9cbbf0707a855df1e7": {
          "model_module": "@jupyter-widgets/controls",
          "model_name": "DescriptionStyleModel",
          "model_module_version": "1.5.0",
          "state": {
            "_model_module": "@jupyter-widgets/controls",
            "_model_module_version": "1.5.0",
            "_model_name": "DescriptionStyleModel",
            "_view_count": null,
            "_view_module": "@jupyter-widgets/base",
            "_view_module_version": "1.2.0",
            "_view_name": "StyleView",
            "description_width": ""
          }
        },
        "363806d35b9f4647918b3f5ad3c0bbb0": {
          "model_module": "@jupyter-widgets/controls",
          "model_name": "HBoxModel",
          "model_module_version": "1.5.0",
          "state": {
            "_dom_classes": [],
            "_model_module": "@jupyter-widgets/controls",
            "_model_module_version": "1.5.0",
            "_model_name": "HBoxModel",
            "_view_count": null,
            "_view_module": "@jupyter-widgets/controls",
            "_view_module_version": "1.5.0",
            "_view_name": "HBoxView",
            "box_style": "",
            "children": [
              "IPY_MODEL_f6f7ea78af514978b210e623019488b0",
              "IPY_MODEL_d990bbe048694c66a1d8804488c9c881",
              "IPY_MODEL_c93881b1fa4a4734b447469fe31b6882"
            ],
            "layout": "IPY_MODEL_90409213b883462d99514b8a6843696f"
          }
        },
        "f6f7ea78af514978b210e623019488b0": {
          "model_module": "@jupyter-widgets/controls",
          "model_name": "HTMLModel",
          "model_module_version": "1.5.0",
          "state": {
            "_dom_classes": [],
            "_model_module": "@jupyter-widgets/controls",
            "_model_module_version": "1.5.0",
            "_model_name": "HTMLModel",
            "_view_count": null,
            "_view_module": "@jupyter-widgets/controls",
            "_view_module_version": "1.5.0",
            "_view_name": "HTMLView",
            "description": "",
            "description_tooltip": null,
            "layout": "IPY_MODEL_534cb2f5d0b348c692b94b03b9ef497f",
            "placeholder": "​",
            "style": "IPY_MODEL_7f2c2c3cfde3465da2ae38a0be89338b",
            "value": "Downloading (…)&quot;pytorch_model.bin&quot;;: 100%"
          }
        },
        "d990bbe048694c66a1d8804488c9c881": {
          "model_module": "@jupyter-widgets/controls",
          "model_name": "FloatProgressModel",
          "model_module_version": "1.5.0",
          "state": {
            "_dom_classes": [],
            "_model_module": "@jupyter-widgets/controls",
            "_model_module_version": "1.5.0",
            "_model_name": "FloatProgressModel",
            "_view_count": null,
            "_view_module": "@jupyter-widgets/controls",
            "_view_module_version": "1.5.0",
            "_view_name": "ProgressView",
            "bar_style": "success",
            "description": "",
            "description_tooltip": null,
            "layout": "IPY_MODEL_1a3f5a5b0e4641c08369e661409efe4f",
            "max": 411577189,
            "min": 0,
            "orientation": "horizontal",
            "style": "IPY_MODEL_29983a7478284b12836c98eb7662f060",
            "value": 411577189
          }
        },
        "c93881b1fa4a4734b447469fe31b6882": {
          "model_module": "@jupyter-widgets/controls",
          "model_name": "HTMLModel",
          "model_module_version": "1.5.0",
          "state": {
            "_dom_classes": [],
            "_model_module": "@jupyter-widgets/controls",
            "_model_module_version": "1.5.0",
            "_model_name": "HTMLModel",
            "_view_count": null,
            "_view_module": "@jupyter-widgets/controls",
            "_view_module_version": "1.5.0",
            "_view_name": "HTMLView",
            "description": "",
            "description_tooltip": null,
            "layout": "IPY_MODEL_66928df5bace435f8da01d5bd236de0c",
            "placeholder": "​",
            "style": "IPY_MODEL_c97789c6a1bc40b3a9879a00da26ec3e",
            "value": " 412M/412M [00:05&lt;00:00, 83.3MB/s]"
          }
        },
        "90409213b883462d99514b8a6843696f": {
          "model_module": "@jupyter-widgets/base",
          "model_name": "LayoutModel",
          "model_module_version": "1.2.0",
          "state": {
            "_model_module": "@jupyter-widgets/base",
            "_model_module_version": "1.2.0",
            "_model_name": "LayoutModel",
            "_view_count": null,
            "_view_module": "@jupyter-widgets/base",
            "_view_module_version": "1.2.0",
            "_view_name": "LayoutView",
            "align_content": null,
            "align_items": null,
            "align_self": null,
            "border": null,
            "bottom": null,
            "display": null,
            "flex": null,
            "flex_flow": null,
            "grid_area": null,
            "grid_auto_columns": null,
            "grid_auto_flow": null,
            "grid_auto_rows": null,
            "grid_column": null,
            "grid_gap": null,
            "grid_row": null,
            "grid_template_areas": null,
            "grid_template_columns": null,
            "grid_template_rows": null,
            "height": null,
            "justify_content": null,
            "justify_items": null,
            "left": null,
            "margin": null,
            "max_height": null,
            "max_width": null,
            "min_height": null,
            "min_width": null,
            "object_fit": null,
            "object_position": null,
            "order": null,
            "overflow": null,
            "overflow_x": null,
            "overflow_y": null,
            "padding": null,
            "right": null,
            "top": null,
            "visibility": null,
            "width": null
          }
        },
        "534cb2f5d0b348c692b94b03b9ef497f": {
          "model_module": "@jupyter-widgets/base",
          "model_name": "LayoutModel",
          "model_module_version": "1.2.0",
          "state": {
            "_model_module": "@jupyter-widgets/base",
            "_model_module_version": "1.2.0",
            "_model_name": "LayoutModel",
            "_view_count": null,
            "_view_module": "@jupyter-widgets/base",
            "_view_module_version": "1.2.0",
            "_view_name": "LayoutView",
            "align_content": null,
            "align_items": null,
            "align_self": null,
            "border": null,
            "bottom": null,
            "display": null,
            "flex": null,
            "flex_flow": null,
            "grid_area": null,
            "grid_auto_columns": null,
            "grid_auto_flow": null,
            "grid_auto_rows": null,
            "grid_column": null,
            "grid_gap": null,
            "grid_row": null,
            "grid_template_areas": null,
            "grid_template_columns": null,
            "grid_template_rows": null,
            "height": null,
            "justify_content": null,
            "justify_items": null,
            "left": null,
            "margin": null,
            "max_height": null,
            "max_width": null,
            "min_height": null,
            "min_width": null,
            "object_fit": null,
            "object_position": null,
            "order": null,
            "overflow": null,
            "overflow_x": null,
            "overflow_y": null,
            "padding": null,
            "right": null,
            "top": null,
            "visibility": null,
            "width": null
          }
        },
        "7f2c2c3cfde3465da2ae38a0be89338b": {
          "model_module": "@jupyter-widgets/controls",
          "model_name": "DescriptionStyleModel",
          "model_module_version": "1.5.0",
          "state": {
            "_model_module": "@jupyter-widgets/controls",
            "_model_module_version": "1.5.0",
            "_model_name": "DescriptionStyleModel",
            "_view_count": null,
            "_view_module": "@jupyter-widgets/base",
            "_view_module_version": "1.2.0",
            "_view_name": "StyleView",
            "description_width": ""
          }
        },
        "1a3f5a5b0e4641c08369e661409efe4f": {
          "model_module": "@jupyter-widgets/base",
          "model_name": "LayoutModel",
          "model_module_version": "1.2.0",
          "state": {
            "_model_module": "@jupyter-widgets/base",
            "_model_module_version": "1.2.0",
            "_model_name": "LayoutModel",
            "_view_count": null,
            "_view_module": "@jupyter-widgets/base",
            "_view_module_version": "1.2.0",
            "_view_name": "LayoutView",
            "align_content": null,
            "align_items": null,
            "align_self": null,
            "border": null,
            "bottom": null,
            "display": null,
            "flex": null,
            "flex_flow": null,
            "grid_area": null,
            "grid_auto_columns": null,
            "grid_auto_flow": null,
            "grid_auto_rows": null,
            "grid_column": null,
            "grid_gap": null,
            "grid_row": null,
            "grid_template_areas": null,
            "grid_template_columns": null,
            "grid_template_rows": null,
            "height": null,
            "justify_content": null,
            "justify_items": null,
            "left": null,
            "margin": null,
            "max_height": null,
            "max_width": null,
            "min_height": null,
            "min_width": null,
            "object_fit": null,
            "object_position": null,
            "order": null,
            "overflow": null,
            "overflow_x": null,
            "overflow_y": null,
            "padding": null,
            "right": null,
            "top": null,
            "visibility": null,
            "width": null
          }
        },
        "29983a7478284b12836c98eb7662f060": {
          "model_module": "@jupyter-widgets/controls",
          "model_name": "ProgressStyleModel",
          "model_module_version": "1.5.0",
          "state": {
            "_model_module": "@jupyter-widgets/controls",
            "_model_module_version": "1.5.0",
            "_model_name": "ProgressStyleModel",
            "_view_count": null,
            "_view_module": "@jupyter-widgets/base",
            "_view_module_version": "1.2.0",
            "_view_name": "StyleView",
            "bar_color": null,
            "description_width": ""
          }
        },
        "66928df5bace435f8da01d5bd236de0c": {
          "model_module": "@jupyter-widgets/base",
          "model_name": "LayoutModel",
          "model_module_version": "1.2.0",
          "state": {
            "_model_module": "@jupyter-widgets/base",
            "_model_module_version": "1.2.0",
            "_model_name": "LayoutModel",
            "_view_count": null,
            "_view_module": "@jupyter-widgets/base",
            "_view_module_version": "1.2.0",
            "_view_name": "LayoutView",
            "align_content": null,
            "align_items": null,
            "align_self": null,
            "border": null,
            "bottom": null,
            "display": null,
            "flex": null,
            "flex_flow": null,
            "grid_area": null,
            "grid_auto_columns": null,
            "grid_auto_flow": null,
            "grid_auto_rows": null,
            "grid_column": null,
            "grid_gap": null,
            "grid_row": null,
            "grid_template_areas": null,
            "grid_template_columns": null,
            "grid_template_rows": null,
            "height": null,
            "justify_content": null,
            "justify_items": null,
            "left": null,
            "margin": null,
            "max_height": null,
            "max_width": null,
            "min_height": null,
            "min_width": null,
            "object_fit": null,
            "object_position": null,
            "order": null,
            "overflow": null,
            "overflow_x": null,
            "overflow_y": null,
            "padding": null,
            "right": null,
            "top": null,
            "visibility": null,
            "width": null
          }
        },
        "c97789c6a1bc40b3a9879a00da26ec3e": {
          "model_module": "@jupyter-widgets/controls",
          "model_name": "DescriptionStyleModel",
          "model_module_version": "1.5.0",
          "state": {
            "_model_module": "@jupyter-widgets/controls",
            "_model_module_version": "1.5.0",
            "_model_name": "DescriptionStyleModel",
            "_view_count": null,
            "_view_module": "@jupyter-widgets/base",
            "_view_module_version": "1.2.0",
            "_view_name": "StyleView",
            "description_width": ""
          }
        },
        "0a4b889460d94fec956aa563f1a4c6d6": {
          "model_module": "@jupyter-widgets/controls",
          "model_name": "HBoxModel",
          "model_module_version": "1.5.0",
          "state": {
            "_dom_classes": [],
            "_model_module": "@jupyter-widgets/controls",
            "_model_module_version": "1.5.0",
            "_model_name": "HBoxModel",
            "_view_count": null,
            "_view_module": "@jupyter-widgets/controls",
            "_view_module_version": "1.5.0",
            "_view_name": "HBoxView",
            "box_style": "",
            "children": [
              "IPY_MODEL_f4d1004b78354005bcea43ee3c797dfe",
              "IPY_MODEL_ca19126ffcd64d6a8b02e04169525909",
              "IPY_MODEL_a338a133b95f4ee692f89ec51b88767f"
            ],
            "layout": "IPY_MODEL_7010605041e144a0a22520d6c9fb6955"
          }
        },
        "f4d1004b78354005bcea43ee3c797dfe": {
          "model_module": "@jupyter-widgets/controls",
          "model_name": "HTMLModel",
          "model_module_version": "1.5.0",
          "state": {
            "_dom_classes": [],
            "_model_module": "@jupyter-widgets/controls",
            "_model_module_version": "1.5.0",
            "_model_name": "HTMLModel",
            "_view_count": null,
            "_view_module": "@jupyter-widgets/controls",
            "_view_module_version": "1.5.0",
            "_view_name": "HTMLView",
            "description": "",
            "description_tooltip": null,
            "layout": "IPY_MODEL_8fc4d691305249348dd31c255ef13022",
            "placeholder": "​",
            "style": "IPY_MODEL_4d75dda7daab40f9bb950ffffb3028e1",
            "value": "Map: 100%"
          }
        },
        "ca19126ffcd64d6a8b02e04169525909": {
          "model_module": "@jupyter-widgets/controls",
          "model_name": "FloatProgressModel",
          "model_module_version": "1.5.0",
          "state": {
            "_dom_classes": [],
            "_model_module": "@jupyter-widgets/controls",
            "_model_module_version": "1.5.0",
            "_model_name": "FloatProgressModel",
            "_view_count": null,
            "_view_module": "@jupyter-widgets/controls",
            "_view_module_version": "1.5.0",
            "_view_name": "ProgressView",
            "bar_style": "",
            "description": "",
            "description_tooltip": null,
            "layout": "IPY_MODEL_de45835c81a44e28ba7ef203c369b600",
            "max": 7500,
            "min": 0,
            "orientation": "horizontal",
            "style": "IPY_MODEL_d25b65430c2c4a9bbc4ca98bf5dbb2fc",
            "value": 7500
          }
        },
        "a338a133b95f4ee692f89ec51b88767f": {
          "model_module": "@jupyter-widgets/controls",
          "model_name": "HTMLModel",
          "model_module_version": "1.5.0",
          "state": {
            "_dom_classes": [],
            "_model_module": "@jupyter-widgets/controls",
            "_model_module_version": "1.5.0",
            "_model_name": "HTMLModel",
            "_view_count": null,
            "_view_module": "@jupyter-widgets/controls",
            "_view_module_version": "1.5.0",
            "_view_name": "HTMLView",
            "description": "",
            "description_tooltip": null,
            "layout": "IPY_MODEL_739c9babdd1c4c699546788bdbb5c124",
            "placeholder": "​",
            "style": "IPY_MODEL_522dd71d6a3045809d022b81a26d843b",
            "value": " 7500/7500 [00:03&lt;00:00, 2011.96 examples/s]"
          }
        },
        "7010605041e144a0a22520d6c9fb6955": {
          "model_module": "@jupyter-widgets/base",
          "model_name": "LayoutModel",
          "model_module_version": "1.2.0",
          "state": {
            "_model_module": "@jupyter-widgets/base",
            "_model_module_version": "1.2.0",
            "_model_name": "LayoutModel",
            "_view_count": null,
            "_view_module": "@jupyter-widgets/base",
            "_view_module_version": "1.2.0",
            "_view_name": "LayoutView",
            "align_content": null,
            "align_items": null,
            "align_self": null,
            "border": null,
            "bottom": null,
            "display": null,
            "flex": null,
            "flex_flow": null,
            "grid_area": null,
            "grid_auto_columns": null,
            "grid_auto_flow": null,
            "grid_auto_rows": null,
            "grid_column": null,
            "grid_gap": null,
            "grid_row": null,
            "grid_template_areas": null,
            "grid_template_columns": null,
            "grid_template_rows": null,
            "height": null,
            "justify_content": null,
            "justify_items": null,
            "left": null,
            "margin": null,
            "max_height": null,
            "max_width": null,
            "min_height": null,
            "min_width": null,
            "object_fit": null,
            "object_position": null,
            "order": null,
            "overflow": null,
            "overflow_x": null,
            "overflow_y": null,
            "padding": null,
            "right": null,
            "top": null,
            "visibility": "hidden",
            "width": null
          }
        },
        "8fc4d691305249348dd31c255ef13022": {
          "model_module": "@jupyter-widgets/base",
          "model_name": "LayoutModel",
          "model_module_version": "1.2.0",
          "state": {
            "_model_module": "@jupyter-widgets/base",
            "_model_module_version": "1.2.0",
            "_model_name": "LayoutModel",
            "_view_count": null,
            "_view_module": "@jupyter-widgets/base",
            "_view_module_version": "1.2.0",
            "_view_name": "LayoutView",
            "align_content": null,
            "align_items": null,
            "align_self": null,
            "border": null,
            "bottom": null,
            "display": null,
            "flex": null,
            "flex_flow": null,
            "grid_area": null,
            "grid_auto_columns": null,
            "grid_auto_flow": null,
            "grid_auto_rows": null,
            "grid_column": null,
            "grid_gap": null,
            "grid_row": null,
            "grid_template_areas": null,
            "grid_template_columns": null,
            "grid_template_rows": null,
            "height": null,
            "justify_content": null,
            "justify_items": null,
            "left": null,
            "margin": null,
            "max_height": null,
            "max_width": null,
            "min_height": null,
            "min_width": null,
            "object_fit": null,
            "object_position": null,
            "order": null,
            "overflow": null,
            "overflow_x": null,
            "overflow_y": null,
            "padding": null,
            "right": null,
            "top": null,
            "visibility": null,
            "width": null
          }
        },
        "4d75dda7daab40f9bb950ffffb3028e1": {
          "model_module": "@jupyter-widgets/controls",
          "model_name": "DescriptionStyleModel",
          "model_module_version": "1.5.0",
          "state": {
            "_model_module": "@jupyter-widgets/controls",
            "_model_module_version": "1.5.0",
            "_model_name": "DescriptionStyleModel",
            "_view_count": null,
            "_view_module": "@jupyter-widgets/base",
            "_view_module_version": "1.2.0",
            "_view_name": "StyleView",
            "description_width": ""
          }
        },
        "de45835c81a44e28ba7ef203c369b600": {
          "model_module": "@jupyter-widgets/base",
          "model_name": "LayoutModel",
          "model_module_version": "1.2.0",
          "state": {
            "_model_module": "@jupyter-widgets/base",
            "_model_module_version": "1.2.0",
            "_model_name": "LayoutModel",
            "_view_count": null,
            "_view_module": "@jupyter-widgets/base",
            "_view_module_version": "1.2.0",
            "_view_name": "LayoutView",
            "align_content": null,
            "align_items": null,
            "align_self": null,
            "border": null,
            "bottom": null,
            "display": null,
            "flex": null,
            "flex_flow": null,
            "grid_area": null,
            "grid_auto_columns": null,
            "grid_auto_flow": null,
            "grid_auto_rows": null,
            "grid_column": null,
            "grid_gap": null,
            "grid_row": null,
            "grid_template_areas": null,
            "grid_template_columns": null,
            "grid_template_rows": null,
            "height": null,
            "justify_content": null,
            "justify_items": null,
            "left": null,
            "margin": null,
            "max_height": null,
            "max_width": null,
            "min_height": null,
            "min_width": null,
            "object_fit": null,
            "object_position": null,
            "order": null,
            "overflow": null,
            "overflow_x": null,
            "overflow_y": null,
            "padding": null,
            "right": null,
            "top": null,
            "visibility": null,
            "width": null
          }
        },
        "d25b65430c2c4a9bbc4ca98bf5dbb2fc": {
          "model_module": "@jupyter-widgets/controls",
          "model_name": "ProgressStyleModel",
          "model_module_version": "1.5.0",
          "state": {
            "_model_module": "@jupyter-widgets/controls",
            "_model_module_version": "1.5.0",
            "_model_name": "ProgressStyleModel",
            "_view_count": null,
            "_view_module": "@jupyter-widgets/base",
            "_view_module_version": "1.2.0",
            "_view_name": "StyleView",
            "bar_color": null,
            "description_width": ""
          }
        },
        "739c9babdd1c4c699546788bdbb5c124": {
          "model_module": "@jupyter-widgets/base",
          "model_name": "LayoutModel",
          "model_module_version": "1.2.0",
          "state": {
            "_model_module": "@jupyter-widgets/base",
            "_model_module_version": "1.2.0",
            "_model_name": "LayoutModel",
            "_view_count": null,
            "_view_module": "@jupyter-widgets/base",
            "_view_module_version": "1.2.0",
            "_view_name": "LayoutView",
            "align_content": null,
            "align_items": null,
            "align_self": null,
            "border": null,
            "bottom": null,
            "display": null,
            "flex": null,
            "flex_flow": null,
            "grid_area": null,
            "grid_auto_columns": null,
            "grid_auto_flow": null,
            "grid_auto_rows": null,
            "grid_column": null,
            "grid_gap": null,
            "grid_row": null,
            "grid_template_areas": null,
            "grid_template_columns": null,
            "grid_template_rows": null,
            "height": null,
            "justify_content": null,
            "justify_items": null,
            "left": null,
            "margin": null,
            "max_height": null,
            "max_width": null,
            "min_height": null,
            "min_width": null,
            "object_fit": null,
            "object_position": null,
            "order": null,
            "overflow": null,
            "overflow_x": null,
            "overflow_y": null,
            "padding": null,
            "right": null,
            "top": null,
            "visibility": null,
            "width": null
          }
        },
        "522dd71d6a3045809d022b81a26d843b": {
          "model_module": "@jupyter-widgets/controls",
          "model_name": "DescriptionStyleModel",
          "model_module_version": "1.5.0",
          "state": {
            "_model_module": "@jupyter-widgets/controls",
            "_model_module_version": "1.5.0",
            "_model_name": "DescriptionStyleModel",
            "_view_count": null,
            "_view_module": "@jupyter-widgets/base",
            "_view_module_version": "1.2.0",
            "_view_name": "StyleView",
            "description_width": ""
          }
        },
        "f6f059015eec4ca98f03fc0c0c44120c": {
          "model_module": "@jupyter-widgets/controls",
          "model_name": "HBoxModel",
          "model_module_version": "1.5.0",
          "state": {
            "_dom_classes": [],
            "_model_module": "@jupyter-widgets/controls",
            "_model_module_version": "1.5.0",
            "_model_name": "HBoxModel",
            "_view_count": null,
            "_view_module": "@jupyter-widgets/controls",
            "_view_module_version": "1.5.0",
            "_view_name": "HBoxView",
            "box_style": "",
            "children": [
              "IPY_MODEL_06482d3eab844031aec432d4f14d6f90",
              "IPY_MODEL_c2e5834ffdbc49d8a96c9cd2e73d66f4",
              "IPY_MODEL_221fac3b27094d4ea41e7ff12074f5d0"
            ],
            "layout": "IPY_MODEL_fa8deb857ec74c7c8dba6c44fc1c7a61"
          }
        },
        "06482d3eab844031aec432d4f14d6f90": {
          "model_module": "@jupyter-widgets/controls",
          "model_name": "HTMLModel",
          "model_module_version": "1.5.0",
          "state": {
            "_dom_classes": [],
            "_model_module": "@jupyter-widgets/controls",
            "_model_module_version": "1.5.0",
            "_model_name": "HTMLModel",
            "_view_count": null,
            "_view_module": "@jupyter-widgets/controls",
            "_view_module_version": "1.5.0",
            "_view_name": "HTMLView",
            "description": "",
            "description_tooltip": null,
            "layout": "IPY_MODEL_4cbf3f4498ca420497d430c5d317cac2",
            "placeholder": "​",
            "style": "IPY_MODEL_edc312ea05a044709bf22b5818f840a1",
            "value": "Map: 100%"
          }
        },
        "c2e5834ffdbc49d8a96c9cd2e73d66f4": {
          "model_module": "@jupyter-widgets/controls",
          "model_name": "FloatProgressModel",
          "model_module_version": "1.5.0",
          "state": {
            "_dom_classes": [],
            "_model_module": "@jupyter-widgets/controls",
            "_model_module_version": "1.5.0",
            "_model_name": "FloatProgressModel",
            "_view_count": null,
            "_view_module": "@jupyter-widgets/controls",
            "_view_module_version": "1.5.0",
            "_view_name": "ProgressView",
            "bar_style": "",
            "description": "",
            "description_tooltip": null,
            "layout": "IPY_MODEL_ac529358fccc4bacbba52ed286d11d13",
            "max": 2500,
            "min": 0,
            "orientation": "horizontal",
            "style": "IPY_MODEL_2a294cdd57c64313b0412ada849b5a49",
            "value": 2500
          }
        },
        "221fac3b27094d4ea41e7ff12074f5d0": {
          "model_module": "@jupyter-widgets/controls",
          "model_name": "HTMLModel",
          "model_module_version": "1.5.0",
          "state": {
            "_dom_classes": [],
            "_model_module": "@jupyter-widgets/controls",
            "_model_module_version": "1.5.0",
            "_model_name": "HTMLModel",
            "_view_count": null,
            "_view_module": "@jupyter-widgets/controls",
            "_view_module_version": "1.5.0",
            "_view_name": "HTMLView",
            "description": "",
            "description_tooltip": null,
            "layout": "IPY_MODEL_eb20a7db8dac4147865b416fb1dd3625",
            "placeholder": "​",
            "style": "IPY_MODEL_51bc69a851fb48c6ab7dcc726e9ee92f",
            "value": " 2500/2500 [00:01&lt;00:00, 1988.85 examples/s]"
          }
        },
        "fa8deb857ec74c7c8dba6c44fc1c7a61": {
          "model_module": "@jupyter-widgets/base",
          "model_name": "LayoutModel",
          "model_module_version": "1.2.0",
          "state": {
            "_model_module": "@jupyter-widgets/base",
            "_model_module_version": "1.2.0",
            "_model_name": "LayoutModel",
            "_view_count": null,
            "_view_module": "@jupyter-widgets/base",
            "_view_module_version": "1.2.0",
            "_view_name": "LayoutView",
            "align_content": null,
            "align_items": null,
            "align_self": null,
            "border": null,
            "bottom": null,
            "display": null,
            "flex": null,
            "flex_flow": null,
            "grid_area": null,
            "grid_auto_columns": null,
            "grid_auto_flow": null,
            "grid_auto_rows": null,
            "grid_column": null,
            "grid_gap": null,
            "grid_row": null,
            "grid_template_areas": null,
            "grid_template_columns": null,
            "grid_template_rows": null,
            "height": null,
            "justify_content": null,
            "justify_items": null,
            "left": null,
            "margin": null,
            "max_height": null,
            "max_width": null,
            "min_height": null,
            "min_width": null,
            "object_fit": null,
            "object_position": null,
            "order": null,
            "overflow": null,
            "overflow_x": null,
            "overflow_y": null,
            "padding": null,
            "right": null,
            "top": null,
            "visibility": "hidden",
            "width": null
          }
        },
        "4cbf3f4498ca420497d430c5d317cac2": {
          "model_module": "@jupyter-widgets/base",
          "model_name": "LayoutModel",
          "model_module_version": "1.2.0",
          "state": {
            "_model_module": "@jupyter-widgets/base",
            "_model_module_version": "1.2.0",
            "_model_name": "LayoutModel",
            "_view_count": null,
            "_view_module": "@jupyter-widgets/base",
            "_view_module_version": "1.2.0",
            "_view_name": "LayoutView",
            "align_content": null,
            "align_items": null,
            "align_self": null,
            "border": null,
            "bottom": null,
            "display": null,
            "flex": null,
            "flex_flow": null,
            "grid_area": null,
            "grid_auto_columns": null,
            "grid_auto_flow": null,
            "grid_auto_rows": null,
            "grid_column": null,
            "grid_gap": null,
            "grid_row": null,
            "grid_template_areas": null,
            "grid_template_columns": null,
            "grid_template_rows": null,
            "height": null,
            "justify_content": null,
            "justify_items": null,
            "left": null,
            "margin": null,
            "max_height": null,
            "max_width": null,
            "min_height": null,
            "min_width": null,
            "object_fit": null,
            "object_position": null,
            "order": null,
            "overflow": null,
            "overflow_x": null,
            "overflow_y": null,
            "padding": null,
            "right": null,
            "top": null,
            "visibility": null,
            "width": null
          }
        },
        "edc312ea05a044709bf22b5818f840a1": {
          "model_module": "@jupyter-widgets/controls",
          "model_name": "DescriptionStyleModel",
          "model_module_version": "1.5.0",
          "state": {
            "_model_module": "@jupyter-widgets/controls",
            "_model_module_version": "1.5.0",
            "_model_name": "DescriptionStyleModel",
            "_view_count": null,
            "_view_module": "@jupyter-widgets/base",
            "_view_module_version": "1.2.0",
            "_view_name": "StyleView",
            "description_width": ""
          }
        },
        "ac529358fccc4bacbba52ed286d11d13": {
          "model_module": "@jupyter-widgets/base",
          "model_name": "LayoutModel",
          "model_module_version": "1.2.0",
          "state": {
            "_model_module": "@jupyter-widgets/base",
            "_model_module_version": "1.2.0",
            "_model_name": "LayoutModel",
            "_view_count": null,
            "_view_module": "@jupyter-widgets/base",
            "_view_module_version": "1.2.0",
            "_view_name": "LayoutView",
            "align_content": null,
            "align_items": null,
            "align_self": null,
            "border": null,
            "bottom": null,
            "display": null,
            "flex": null,
            "flex_flow": null,
            "grid_area": null,
            "grid_auto_columns": null,
            "grid_auto_flow": null,
            "grid_auto_rows": null,
            "grid_column": null,
            "grid_gap": null,
            "grid_row": null,
            "grid_template_areas": null,
            "grid_template_columns": null,
            "grid_template_rows": null,
            "height": null,
            "justify_content": null,
            "justify_items": null,
            "left": null,
            "margin": null,
            "max_height": null,
            "max_width": null,
            "min_height": null,
            "min_width": null,
            "object_fit": null,
            "object_position": null,
            "order": null,
            "overflow": null,
            "overflow_x": null,
            "overflow_y": null,
            "padding": null,
            "right": null,
            "top": null,
            "visibility": null,
            "width": null
          }
        },
        "2a294cdd57c64313b0412ada849b5a49": {
          "model_module": "@jupyter-widgets/controls",
          "model_name": "ProgressStyleModel",
          "model_module_version": "1.5.0",
          "state": {
            "_model_module": "@jupyter-widgets/controls",
            "_model_module_version": "1.5.0",
            "_model_name": "ProgressStyleModel",
            "_view_count": null,
            "_view_module": "@jupyter-widgets/base",
            "_view_module_version": "1.2.0",
            "_view_name": "StyleView",
            "bar_color": null,
            "description_width": ""
          }
        },
        "eb20a7db8dac4147865b416fb1dd3625": {
          "model_module": "@jupyter-widgets/base",
          "model_name": "LayoutModel",
          "model_module_version": "1.2.0",
          "state": {
            "_model_module": "@jupyter-widgets/base",
            "_model_module_version": "1.2.0",
            "_model_name": "LayoutModel",
            "_view_count": null,
            "_view_module": "@jupyter-widgets/base",
            "_view_module_version": "1.2.0",
            "_view_name": "LayoutView",
            "align_content": null,
            "align_items": null,
            "align_self": null,
            "border": null,
            "bottom": null,
            "display": null,
            "flex": null,
            "flex_flow": null,
            "grid_area": null,
            "grid_auto_columns": null,
            "grid_auto_flow": null,
            "grid_auto_rows": null,
            "grid_column": null,
            "grid_gap": null,
            "grid_row": null,
            "grid_template_areas": null,
            "grid_template_columns": null,
            "grid_template_rows": null,
            "height": null,
            "justify_content": null,
            "justify_items": null,
            "left": null,
            "margin": null,
            "max_height": null,
            "max_width": null,
            "min_height": null,
            "min_width": null,
            "object_fit": null,
            "object_position": null,
            "order": null,
            "overflow": null,
            "overflow_x": null,
            "overflow_y": null,
            "padding": null,
            "right": null,
            "top": null,
            "visibility": null,
            "width": null
          }
        },
        "51bc69a851fb48c6ab7dcc726e9ee92f": {
          "model_module": "@jupyter-widgets/controls",
          "model_name": "DescriptionStyleModel",
          "model_module_version": "1.5.0",
          "state": {
            "_model_module": "@jupyter-widgets/controls",
            "_model_module_version": "1.5.0",
            "_model_name": "DescriptionStyleModel",
            "_view_count": null,
            "_view_module": "@jupyter-widgets/base",
            "_view_module_version": "1.2.0",
            "_view_name": "StyleView",
            "description_width": ""
          }
        }
      }
    }
  },
  "cells": [
    {
      "cell_type": "markdown",
      "metadata": {
        "id": "view-in-github",
        "colab_type": "text"
      },
      "source": [
        "<a href=\"https://colab.research.google.com/github/pvalorconsultoria/nlp_lab_usp/blob/main/NLP_Lab_USP_Portuchin%C3%AAs_Language_Model.ipynb\" target=\"_parent\"><img src=\"https://colab.research.google.com/assets/colab-badge.svg\" alt=\"Open In Colab\"/></a>"
      ]
    },
    {
      "cell_type": "markdown",
      "source": [
        "# Portuchinês Language Model\n",
        "\n",
        "Para facilitar o ensino da língua chinesa entre falantes do português, um grupo de professores\n",
        "criou o [portuchinês](https://drive.google.com/file/d/1tvZOE0IPXSpTkKv6CGgaPgo3NvtNT-Vj/view?usp=sharing). A ideia básica por de trás da língua é usar palavras em português e a\n",
        "gramática do mandarim uma vez que essa possui regras e estruturas diferentes que dificultam o\n",
        "diálogo entre os falantes das duas línguas. Em especial, o portuchinês tem como principal\n",
        "propósito apresentar os modificadores tão comuns na língua chinesas e desconhecidos aos\n",
        "português.\n",
        "\n",
        "## Participantes\n",
        "\n",
        "Diego Magalhães Rodrigues - NUSP: 12704028\n",
        "\n",
        "Email: diego@pvalorconsultoria.com.br\n",
        "\n",
        "## Modelo de Linguagem\n",
        "\n",
        "Os modelos de linguagem são um tipo de inteligência artificial (IA) que pode ser usado para entender e gerar linguagem natural. Eles são usados em aplicativos de processamento de linguagem natural (NLP), como tradução automática, resumo de texto, resposta a perguntas e muito mais. Os modelos de linguagem são treinados em grandes conjuntos de dados de texto para aprender a estrutura e o significado da linguagem. Isso permite que eles gerem novas frases que soam como se tivessem sido escritas por um humano.\n",
        "\n",
        "Os modelos de linguagem tornaram-se cada vez mais importantes para tarefas de PNL devido à sua capacidade de capturar as nuances da linguagem natural. Eles podem ajudar as máquinas a entender melhor o contexto das conversas e interpretar com precisão a entrada do usuário. À medida que a tecnologia de IA continua a evoluir, os modelos de linguagem se tornarão ainda mais importantes para os aplicativos de NLP.\n",
        "\n",
        "## Aprenzidado por Transferência\n",
        "\n",
        "O aprendizado por transferência é uma técnica poderosa que nos permite usar modelos de linguagem já treinados para novas tarefas. Essa técnica tem sido usada em muitas áreas, como processamento de linguagem natural (NLP) e visão computacional. Um dos modelos de linguagem mais populares para aprendizado por transferência é o BERT, desenvolvido por pesquisadores de IA do Google.\n",
        "\n",
        "Esse modelo pode ser usado para treinar rapidamente um novo modelo em uma tarefa específica sem precisar começar do zero. Também pode ser usado para ajustar os modelos existentes para melhor desempenho em tarefas específicas. Ao usar o aprendizado por transferência, podemos economizar tempo e recursos e, ao mesmo tempo, obter bons resultados em nossas tarefas-alvo.\n",
        "\n",
        "## Motivação para esse Exemplo\n",
        "\n",
        "A democratização da tecnologia de IA tem sido um dos principais focos da comunidade de pesquisa nos últimos anos. Uma maneira de conseguir isso é criar modelos multilíngues que possam ser usados por pesquisadores de diferentes países e culturas. Isso é especialmente importante para os países de língua portuguesa, que têm menos recursos do que outros idiomas, como o chinês. Ao criar modelos linguísticos compatíveis tanto com o português como com o chinês, a comunidade de pesquisa portuguesa pode beneficiar da vasta quantidade de recursos disponíveis em chinês e utilizá-los para aprofundar a sua própria investigação. Isso os ajudará a crescer e se tornar mais competitivos na comunidade global de IA.\n",
        "\n",
        "## Modelo de Linguagem para o Portuchinês\n",
        "\n",
        "Neste exemplo, vamos refinar o modelo de linguagem  [bert-base-chinese](https://huggingface.co/bert-base-chinese), um modelo de linguagem baseado em atenção em grandes corpos de texto escritos em mandarim, e adaptá-lo ao idioma criado para o ensino de mandarim para falantes de português - o portuchinês :)\n",
        "\n",
        "Como visto no site da hugging-face, o modelo bert-base-chinese é baseado no modelo BERT original, mas foi adaptado para entender melhor o texto chinês. Isso torna mais fácil para os desenvolvedores criar modelos que possam processar com precisão o texto chinês e gerar resultados significativos.  Esse modelo tem sido usado em várias aplicações, como classificação de texto, resposta a perguntas e análise de sentimentos, etc.\n",
        "\n",
        "No nosso caso, vamos criar um dataset sintético do portuchinês e adaptar esse grande modelo de linguagem em mandarim para essa língua construída. Assim, esperamos que esse pequeno novo modelo de linguagem seja capaz de entender a gramática do portuchinês, emprestada do mandarim, mas também introduzir palavras em português em seu vocabulário.\n",
        "\n",
        "Outro experimento interessante é saber se o modelo que foi treinado em grandes volumes de texto do mandarim seria capaz de expandir as capacidades do portuchincês. Isto é, certas regras gramáticas que estão bastante presentes no mandarim seriam automaticamente aprendidas sem que haja exemplos no dataset sintético criado para o exemplo xD.\n"
      ],
      "metadata": {
        "id": "acBAZCfn2kZf"
      }
    },
    {
      "cell_type": "code",
      "source": [
        "!pip install transformers tokenizers datasets"
      ],
      "metadata": {
        "colab": {
          "base_uri": "https://localhost:8080/"
        },
        "id": "FpLUYi_4Jyvt",
        "outputId": "2b823f96-4395-4fc7-c6d1-ded13e36f484"
      },
      "execution_count": null,
      "outputs": [
        {
          "output_type": "stream",
          "name": "stdout",
          "text": [
            "Looking in indexes: https://pypi.org/simple, https://us-python.pkg.dev/colab-wheels/public/simple/\n",
            "Collecting transformers\n",
            "  Downloading transformers-4.26.1-py3-none-any.whl (6.3 MB)\n",
            "\u001b[2K     \u001b[90m━━━━━━━━━━━━━━━━━━━━━━━━━━━━━━━━━━━━━━━━\u001b[0m \u001b[32m6.3/6.3 MB\u001b[0m \u001b[31m55.8 MB/s\u001b[0m eta \u001b[36m0:00:00\u001b[0m\n",
            "\u001b[?25hCollecting tokenizers\n",
            "  Downloading tokenizers-0.13.2-cp38-cp38-manylinux_2_17_x86_64.manylinux2014_x86_64.whl (7.6 MB)\n",
            "\u001b[2K     \u001b[90m━━━━━━━━━━━━━━━━━━━━━━━━━━━━━━━━━━━━━━━━\u001b[0m \u001b[32m7.6/7.6 MB\u001b[0m \u001b[31m84.7 MB/s\u001b[0m eta \u001b[36m0:00:00\u001b[0m\n",
            "\u001b[?25hCollecting datasets\n",
            "  Downloading datasets-2.10.0-py3-none-any.whl (469 kB)\n",
            "\u001b[2K     \u001b[90m━━━━━━━━━━━━━━━━━━━━━━━━━━━━━━━━━━━━━━\u001b[0m \u001b[32m469.0/469.0 KB\u001b[0m \u001b[31m43.0 MB/s\u001b[0m eta \u001b[36m0:00:00\u001b[0m\n",
            "\u001b[?25hRequirement already satisfied: pyyaml>=5.1 in /usr/local/lib/python3.8/dist-packages (from transformers) (6.0)\n",
            "Requirement already satisfied: tqdm>=4.27 in /usr/local/lib/python3.8/dist-packages (from transformers) (4.64.1)\n",
            "Requirement already satisfied: filelock in /usr/local/lib/python3.8/dist-packages (from transformers) (3.9.0)\n",
            "Requirement already satisfied: packaging>=20.0 in /usr/local/lib/python3.8/dist-packages (from transformers) (23.0)\n",
            "Requirement already satisfied: requests in /usr/local/lib/python3.8/dist-packages (from transformers) (2.25.1)\n",
            "Collecting huggingface-hub<1.0,>=0.11.0\n",
            "  Downloading huggingface_hub-0.12.1-py3-none-any.whl (190 kB)\n",
            "\u001b[2K     \u001b[90m━━━━━━━━━━━━━━━━━━━━━━━━━━━━━━━━━━━━━━\u001b[0m \u001b[32m190.3/190.3 KB\u001b[0m \u001b[31m25.1 MB/s\u001b[0m eta \u001b[36m0:00:00\u001b[0m\n",
            "\u001b[?25hRequirement already satisfied: numpy>=1.17 in /usr/local/lib/python3.8/dist-packages (from transformers) (1.22.4)\n",
            "Requirement already satisfied: regex!=2019.12.17 in /usr/local/lib/python3.8/dist-packages (from transformers) (2022.6.2)\n",
            "Requirement already satisfied: fsspec[http]>=2021.11.1 in /usr/local/lib/python3.8/dist-packages (from datasets) (2023.1.0)\n",
            "Requirement already satisfied: pandas in /usr/local/lib/python3.8/dist-packages (from datasets) (1.3.5)\n",
            "Requirement already satisfied: aiohttp in /usr/local/lib/python3.8/dist-packages (from datasets) (3.8.4)\n",
            "Requirement already satisfied: pyarrow>=6.0.0 in /usr/local/lib/python3.8/dist-packages (from datasets) (9.0.0)\n",
            "Collecting multiprocess\n",
            "  Downloading multiprocess-0.70.14-py38-none-any.whl (132 kB)\n",
            "\u001b[2K     \u001b[90m━━━━━━━━━━━━━━━━━━━━━━━━━━━━━━━━━━━━━━\u001b[0m \u001b[32m132.0/132.0 KB\u001b[0m \u001b[31m19.3 MB/s\u001b[0m eta \u001b[36m0:00:00\u001b[0m\n",
            "\u001b[?25hRequirement already satisfied: dill<0.3.7,>=0.3.0 in /usr/local/lib/python3.8/dist-packages (from datasets) (0.3.6)\n",
            "Collecting xxhash\n",
            "  Downloading xxhash-3.2.0-cp38-cp38-manylinux_2_17_x86_64.manylinux2014_x86_64.whl (213 kB)\n",
            "\u001b[2K     \u001b[90m━━━━━━━━━━━━━━━━━━━━━━━━━━━━━━━━━━━━━━\u001b[0m \u001b[32m213.0/213.0 KB\u001b[0m \u001b[31m28.1 MB/s\u001b[0m eta \u001b[36m0:00:00\u001b[0m\n",
            "\u001b[?25hCollecting responses<0.19\n",
            "  Downloading responses-0.18.0-py3-none-any.whl (38 kB)\n",
            "Requirement already satisfied: yarl<2.0,>=1.0 in /usr/local/lib/python3.8/dist-packages (from aiohttp->datasets) (1.8.2)\n",
            "Requirement already satisfied: async-timeout<5.0,>=4.0.0a3 in /usr/local/lib/python3.8/dist-packages (from aiohttp->datasets) (4.0.2)\n",
            "Requirement already satisfied: frozenlist>=1.1.1 in /usr/local/lib/python3.8/dist-packages (from aiohttp->datasets) (1.3.3)\n",
            "Requirement already satisfied: aiosignal>=1.1.2 in /usr/local/lib/python3.8/dist-packages (from aiohttp->datasets) (1.3.1)\n",
            "Requirement already satisfied: attrs>=17.3.0 in /usr/local/lib/python3.8/dist-packages (from aiohttp->datasets) (22.2.0)\n",
            "Requirement already satisfied: multidict<7.0,>=4.5 in /usr/local/lib/python3.8/dist-packages (from aiohttp->datasets) (6.0.4)\n",
            "Requirement already satisfied: charset-normalizer<4.0,>=2.0 in /usr/local/lib/python3.8/dist-packages (from aiohttp->datasets) (3.0.1)\n",
            "Requirement already satisfied: typing-extensions>=3.7.4.3 in /usr/local/lib/python3.8/dist-packages (from huggingface-hub<1.0,>=0.11.0->transformers) (4.5.0)\n",
            "Requirement already satisfied: certifi>=2017.4.17 in /usr/local/lib/python3.8/dist-packages (from requests->transformers) (2022.12.7)\n",
            "Requirement already satisfied: chardet<5,>=3.0.2 in /usr/local/lib/python3.8/dist-packages (from requests->transformers) (4.0.0)\n",
            "Requirement already satisfied: urllib3<1.27,>=1.21.1 in /usr/local/lib/python3.8/dist-packages (from requests->transformers) (1.24.3)\n",
            "Requirement already satisfied: idna<3,>=2.5 in /usr/local/lib/python3.8/dist-packages (from requests->transformers) (2.10)\n",
            "Collecting urllib3<1.27,>=1.21.1\n",
            "  Downloading urllib3-1.26.14-py2.py3-none-any.whl (140 kB)\n",
            "\u001b[2K     \u001b[90m━━━━━━━━━━━━━━━━━━━━━━━━━━━━━━━━━━━━━━\u001b[0m \u001b[32m140.6/140.6 KB\u001b[0m \u001b[31m18.7 MB/s\u001b[0m eta \u001b[36m0:00:00\u001b[0m\n",
            "\u001b[?25hRequirement already satisfied: pytz>=2017.3 in /usr/local/lib/python3.8/dist-packages (from pandas->datasets) (2022.7.1)\n",
            "Requirement already satisfied: python-dateutil>=2.7.3 in /usr/local/lib/python3.8/dist-packages (from pandas->datasets) (2.8.2)\n",
            "Requirement already satisfied: six>=1.5 in /usr/local/lib/python3.8/dist-packages (from python-dateutil>=2.7.3->pandas->datasets) (1.15.0)\n",
            "Installing collected packages: tokenizers, xxhash, urllib3, multiprocess, responses, huggingface-hub, transformers, datasets\n",
            "  Attempting uninstall: urllib3\n",
            "    Found existing installation: urllib3 1.24.3\n",
            "    Uninstalling urllib3-1.24.3:\n",
            "      Successfully uninstalled urllib3-1.24.3\n",
            "Successfully installed datasets-2.10.0 huggingface-hub-0.12.1 multiprocess-0.70.14 responses-0.18.0 tokenizers-0.13.2 transformers-4.26.1 urllib3-1.26.14 xxhash-3.2.0\n"
          ]
        }
      ]
    },
    {
      "cell_type": "code",
      "source": [
        "!pip install -U transformers"
      ],
      "metadata": {
        "colab": {
          "base_uri": "https://localhost:8080/"
        },
        "id": "I5ihRAxVJ4Oi",
        "outputId": "4c343a63-02c5-4c33-d4bd-9b227d8a4302"
      },
      "execution_count": null,
      "outputs": [
        {
          "output_type": "stream",
          "name": "stdout",
          "text": [
            "Looking in indexes: https://pypi.org/simple, https://us-python.pkg.dev/colab-wheels/public/simple/\n",
            "Requirement already satisfied: transformers in /usr/local/lib/python3.8/dist-packages (4.26.1)\n",
            "Requirement already satisfied: huggingface-hub<1.0,>=0.11.0 in /usr/local/lib/python3.8/dist-packages (from transformers) (0.12.1)\n",
            "Requirement already satisfied: packaging>=20.0 in /usr/local/lib/python3.8/dist-packages (from transformers) (23.0)\n",
            "Requirement already satisfied: pyyaml>=5.1 in /usr/local/lib/python3.8/dist-packages (from transformers) (6.0)\n",
            "Requirement already satisfied: filelock in /usr/local/lib/python3.8/dist-packages (from transformers) (3.9.0)\n",
            "Requirement already satisfied: tqdm>=4.27 in /usr/local/lib/python3.8/dist-packages (from transformers) (4.64.1)\n",
            "Requirement already satisfied: numpy>=1.17 in /usr/local/lib/python3.8/dist-packages (from transformers) (1.22.4)\n",
            "Requirement already satisfied: tokenizers!=0.11.3,<0.14,>=0.11.1 in /usr/local/lib/python3.8/dist-packages (from transformers) (0.13.2)\n",
            "Requirement already satisfied: regex!=2019.12.17 in /usr/local/lib/python3.8/dist-packages (from transformers) (2022.6.2)\n",
            "Requirement already satisfied: requests in /usr/local/lib/python3.8/dist-packages (from transformers) (2.25.1)\n",
            "Requirement already satisfied: typing-extensions>=3.7.4.3 in /usr/local/lib/python3.8/dist-packages (from huggingface-hub<1.0,>=0.11.0->transformers) (4.5.0)\n",
            "Requirement already satisfied: certifi>=2017.4.17 in /usr/local/lib/python3.8/dist-packages (from requests->transformers) (2022.12.7)\n",
            "Requirement already satisfied: chardet<5,>=3.0.2 in /usr/local/lib/python3.8/dist-packages (from requests->transformers) (4.0.0)\n",
            "Requirement already satisfied: idna<3,>=2.5 in /usr/local/lib/python3.8/dist-packages (from requests->transformers) (2.10)\n",
            "Requirement already satisfied: urllib3<1.27,>=1.21.1 in /usr/local/lib/python3.8/dist-packages (from requests->transformers) (1.26.14)\n"
          ]
        }
      ]
    },
    {
      "cell_type": "markdown",
      "source": [
        "## Criação do Dataset Sintético\n",
        "\n",
        "O dataset sintético é criado com base em regras gramáticas do mandarim com palavras do português. Para maiores detalhes veja esse documento que explica como funciona essa língua construída."
      ],
      "metadata": {
        "id": "pZV0jIVH9R37"
      }
    },
    {
      "cell_type": "code",
      "execution_count": null,
      "metadata": {
        "id": "OCzGtPS8jNaV"
      },
      "outputs": [],
      "source": [
        "import random\n",
        "\n",
        "random.seed(42)\n",
        "\n",
        "sujeitos = [\"eu\", \"ele\", \"ela\", \"nós\", \"eles\", \"elas\", \"professor\", \"aluno\", \"Diego\", \"Carol\"]\n",
        "verbos = [\"amar\", \"gostar\", \"desejar\", \"comer\", \"ver\", \"achar\"]\n",
        "objetos = [\"cachorro\", \"gato\", \"banana\", \"maçã\", \"bolacha\", \"melancia\", \"porco\"]\n",
        "adjetivos = [\"bonito\", \"legal\", \"divertido\", \"emocionante\", \"exuberante\"]\n",
        "\n",
        "numerais = [\"dois\", \"três\", \"quatro\", \"cinco\", \"seis\", \"meia-duzia\", \"sete\", \"oito\", \"nove\", \"dez\", \"onze\", \"doze\", \"duzia\"]\n",
        "tempos = [\"hoje\", \"ontem\", \"amanhã\", \"ano passado\", \"ano que vem\", \"hoje tarde\", \"hoje cedo\", \"hoje noite\", \"amanhã cedo\", \"amanhã tarde\"]\n",
        "locais = [\"casa\", \"escola\", \"trabalho\", \"USP\", \"universidade\", \"faculdade\"]\n",
        "\n",
        "mod_perguntas = [\n",
        "  \"吗\",           # Ma - perguntas afirmativas\n",
        "  \"谁\",           # Shei - Quem?\n",
        "  \"那\",           # Na - Qual? \n",
        "  \"多少\",         # Duo shao - Quantos? \n",
        "  \"怎么\",         # Zen Me - Como?\n",
        "  \"为身么\",       # Wei Shen Me - Por que?\n",
        "]"
      ]
    },
    {
      "cell_type": "code",
      "source": [
        "rand = random.random\n",
        "\n",
        "def gerar_adjetivo():\n",
        "  return random.choice(adjetivos)\n",
        "\n",
        "def gerar_sujeito(composto=random.random()):\n",
        "  if composto or rand() > 0.3:\n",
        "    a = random.sample(sujeitos, 2)\n",
        "    a.insert(1, \"和\")\n",
        "    a.append(\"都\")\n",
        "    return a\n",
        "  else:\n",
        "    return random.sample(sujeitos, 1)\n",
        "\n",
        "def gerar_objeto(com_adjetivo=None, com_numerais=None):\n",
        "  o = random.sample(objetos, 1)\n",
        "  \n",
        "  if com_numerais or rand() > 0.5:\n",
        "    o.insert(0, random.choice(numerais))\n",
        "    o.insert(1, \"个\")\n",
        "\n",
        "  if com_adjetivo or rand > 0.5:\n",
        "      a = gerar_adjetivo()\n",
        "\n",
        "      o.append(a)\n",
        "\n",
        "      if rand() > 0.5: # intensidade\n",
        "        o.insert(1, \"太\")\n",
        "        o.append(\"了\")\n",
        "\n",
        "      return o\n",
        "  else:\n",
        "    return o\n",
        "\n",
        "def gerar_verbo(duplicacao=None, negativa=None):\n",
        "  v = random.sample(verbos, 1)\n",
        "\n",
        "  if duplicacao or rand() > 0.3:\n",
        "    v = v + v\n",
        "  \n",
        "  if rand() > 0.3:\n",
        "    v.insert(0, \"不\")\n",
        "  \n",
        "  return v\n",
        "\n",
        "def gerar_tempo():\n",
        "  return random.sample(tempos, 1)\n",
        "\n",
        "def gerar_local():\n",
        "  return random.sample(locais, 1)\n",
        "\n",
        "def gerar_sentenca_basica(\n",
        "    com_adjetivo=None, \n",
        "    sujeito_composto=None,\n",
        "    duplicacao_verbal=None,\n",
        "    negativa=None,\n",
        "    com_tempo=None,\n",
        "    com_local=None):\n",
        "  s = gerar_sujeito(sujeito_composto)\n",
        "  \n",
        "  if com_tempo or rand() > 0.5:\n",
        "    q = gerar_tempo()\n",
        "  else:\n",
        "    q = []\n",
        "  \n",
        "  if com_local or rand() > 0.5:\n",
        "    l = gerar_local()\n",
        "  else:\n",
        "    l = []\n",
        "\n",
        "  v = gerar_verbo(duplicacao_verbal, negativa)\n",
        "  o = gerar_objeto(com_adjetivo)\n",
        "\n",
        "  sent = sum([s,q,l,v,o], [])\n",
        "\n",
        "  return sent"
      ],
      "metadata": {
        "id": "i9WCjxW2lUX7"
      },
      "execution_count": null,
      "outputs": []
    },
    {
      "cell_type": "code",
      "source": [
        "gerar_sentenca_basica(com_adjetivo=0.6, sujeito_composto=0.6, duplicacao_verbal=0.6, negativa=0.6)"
      ],
      "metadata": {
        "colab": {
          "base_uri": "https://localhost:8080/"
        },
        "id": "fIoRh3jjl9Qo",
        "outputId": "f93d5d26-8aab-43e8-882b-ba0f2df97b73"
      },
      "execution_count": null,
      "outputs": [
        {
          "output_type": "execute_result",
          "data": {
            "text/plain": [
              "['eu', '和', 'eles', '都', '不', 'amar', 'amar', 'bolacha', 'emocionante']"
            ]
          },
          "metadata": {},
          "execution_count": 5
        }
      ]
    },
    {
      "cell_type": "code",
      "source": [
        "def gerar_sentenca(\n",
        "    negativa=random.random(), \n",
        "    pergunta=random.random(), \n",
        "    com_adjetivo=random.random()):\n",
        "  \n",
        "  sentenca = gerar_sentenca_basica(\n",
        "      com_adjetivo=com_adjetivo,\n",
        "      negativa=negativa\n",
        "  )\n",
        "\n",
        "  if pergunta or rand() > 0.3:\n",
        "    mod = random.choice(mod_perguntas)\n",
        "\n",
        "    sentenca.append(mod)\n",
        "\n",
        "  return {\n",
        "      \"sentenca\": \" \".join(sentenca),\n",
        "      \"sujeitos\": set(sujeitos).intersection(sentenca),\n",
        "      \"verbo\": set(verbos).intersection(sentenca),\n",
        "      \"numerais\": set(numerais).intersection(sentenca),\n",
        "      \"objeto\": set(objetos).intersection(sentenca),\n",
        "      \"tempo\": set(tempos).intersection(sentenca),\n",
        "      \"local\": set(locais).intersection(sentenca)\n",
        "  }"
      ],
      "metadata": {
        "id": "e_gH2rbtmE-D"
      },
      "execution_count": null,
      "outputs": []
    },
    {
      "cell_type": "code",
      "source": [
        "gerar_sentenca(com_adjetivo=0.6, pergunta=0.6, negativa=0.6)"
      ],
      "metadata": {
        "colab": {
          "base_uri": "https://localhost:8080/"
        },
        "id": "dYnkBoxInqeL",
        "outputId": "c64d268e-afdc-45f3-f0e3-d6e29ecf8086"
      },
      "execution_count": null,
      "outputs": [
        {
          "output_type": "execute_result",
          "data": {
            "text/plain": [
              "{'sentenca': 'Diego 和 professor 都 casa 不 gostar gostar gato divertido 多少',\n",
              " 'sujeitos': {'Diego', 'professor'},\n",
              " 'verbo': {'gostar'},\n",
              " 'numerais': set(),\n",
              " 'objeto': {'gato'},\n",
              " 'tempo': set(),\n",
              " 'local': {'casa'}}"
            ]
          },
          "metadata": {},
          "execution_count": 7
        }
      ]
    },
    {
      "cell_type": "code",
      "source": [
        "def gerar_dataset(n=1000):\n",
        "  ds = []\n",
        "\n",
        "  for _ in range(n):\n",
        "    sent = gerar_sentenca()\n",
        "\n",
        "    ds.append(sent)\n",
        "  \n",
        "  return ds\n"
      ],
      "metadata": {
        "id": "KlDwR9fznqbd"
      },
      "execution_count": null,
      "outputs": []
    },
    {
      "cell_type": "markdown",
      "source": [
        "Essa é o resultado do dataset gerado. Uma sentença completa seguindo as regras do portuchinês e também algumas entidades reconhecidas da sentença com o intuito de posteriormente treinar o modelo na tarefa de Named Entity Recognition. "
      ],
      "metadata": {
        "id": "xkHV-bqHDxiq"
      }
    },
    {
      "cell_type": "code",
      "source": [
        "ds = gerar_dataset(n=10000)\n",
        "ds[0:2]"
      ],
      "metadata": {
        "colab": {
          "base_uri": "https://localhost:8080/"
        },
        "id": "wZ4ffz-f5Wkh",
        "outputId": "a7eb252c-49f9-442b-8fcf-a3ed41a995ad"
      },
      "execution_count": null,
      "outputs": [
        {
          "output_type": "execute_result",
          "data": {
            "text/plain": [
              "[{'sentenca': 'elas hoje universidade 不 amar amar bolacha 太 exuberante 了 那',\n",
              "  'sujeitos': {'elas'},\n",
              "  'verbo': {'amar'},\n",
              "  'numerais': set(),\n",
              "  'objeto': {'bolacha'},\n",
              "  'tempo': {'hoje'},\n",
              "  'local': {'universidade'}},\n",
              " {'sentenca': 'ele 和 eu 都 ano que vem escola 不 amar amar porco divertido 为身么',\n",
              "  'sujeitos': {'ele', 'eu'},\n",
              "  'verbo': {'amar'},\n",
              "  'numerais': set(),\n",
              "  'objeto': {'porco'},\n",
              "  'tempo': {'ano que vem'},\n",
              "  'local': {'escola'}}]"
            ]
          },
          "metadata": {},
          "execution_count": 9
        }
      ]
    },
    {
      "cell_type": "code",
      "source": [],
      "metadata": {
        "id": "UJVNfMrmW6J-"
      },
      "execution_count": null,
      "outputs": []
    },
    {
      "cell_type": "code",
      "source": [
        "from datasets import Dataset\n",
        "\n",
        "dataset = Dataset.from_list(ds)\n",
        "dataset"
      ],
      "metadata": {
        "colab": {
          "base_uri": "https://localhost:8080/"
        },
        "id": "dk7-hvIDW6G2",
        "outputId": "c1f07770-a22e-4b43-d011-06deaa7e05f4"
      },
      "execution_count": null,
      "outputs": [
        {
          "output_type": "execute_result",
          "data": {
            "text/plain": [
              "Dataset({\n",
              "    features: ['sentenca', 'sujeitos', 'verbo', 'numerais', 'objeto', 'tempo', 'local'],\n",
              "    num_rows: 10000\n",
              "})"
            ]
          },
          "metadata": {},
          "execution_count": 10
        }
      ]
    },
    {
      "cell_type": "code",
      "source": [
        "dataset = dataset.rename_column(\"sentenca\", \"text\")"
      ],
      "metadata": {
        "id": "PcJZaLKj6rXU"
      },
      "execution_count": null,
      "outputs": []
    },
    {
      "cell_type": "markdown",
      "source": [
        "Aqui fazemos o split no dataset de treino e de teste para posteriormente treinar e avaliar o nosso modelo de linguagem."
      ],
      "metadata": {
        "id": "sUZnfYZlEYa7"
      }
    },
    {
      "cell_type": "code",
      "source": [
        "dataset = dataset.train_test_split(\n",
        "    train_size=7500, test_size=2500, seed=42\n",
        ")\n",
        "dataset"
      ],
      "metadata": {
        "colab": {
          "base_uri": "https://localhost:8080/"
        },
        "id": "FsVW4UlnuQqL",
        "outputId": "61e29059-1f7f-489e-de85-a2b2a50a6fb1"
      },
      "execution_count": null,
      "outputs": [
        {
          "output_type": "execute_result",
          "data": {
            "text/plain": [
              "DatasetDict({\n",
              "    train: Dataset({\n",
              "        features: ['text', 'sujeitos', 'verbo', 'numerais', 'objeto', 'tempo', 'local'],\n",
              "        num_rows: 7500\n",
              "    })\n",
              "    test: Dataset({\n",
              "        features: ['text', 'sujeitos', 'verbo', 'numerais', 'objeto', 'tempo', 'local'],\n",
              "        num_rows: 2500\n",
              "    })\n",
              "})"
            ]
          },
          "metadata": {},
          "execution_count": 12
        }
      ]
    },
    {
      "cell_type": "markdown",
      "source": [
        "Aqui vamos importar o modelo e o seu tokenizador pré-treinados do hugging-face. Lembrando, esses modelos foram treinados apenas em corpus de texto em mandarim e não reconhecem as palavras em português de nosso dataset sintético."
      ],
      "metadata": {
        "id": "HuJUckIFEiTR"
      }
    },
    {
      "cell_type": "code",
      "source": [
        "from transformers import AutoTokenizer, AutoModelForMaskedLM\n",
        "\n",
        "tokenizer = AutoTokenizer.from_pretrained(\"bert-base-chinese\")\n",
        "\n",
        "model = AutoModelForMaskedLM.from_pretrained(\"bert-base-chinese\")"
      ],
      "metadata": {
        "colab": {
          "base_uri": "https://localhost:8080/",
          "height": 252,
          "referenced_widgets": [
            "2600f67ad6364a4881b4d4ae7c74bddd",
            "f738fd13ab524856b55a0ed186dfba86",
            "a03faf95aa5143699424726cee5fa271",
            "5028a2522fc74a9bb54f7c2f2dde9c10",
            "dfc373384a624d3b979578cab135d4c0",
            "6897ccdaeaad41f7bd97e225564f52bd",
            "a0c7190ccadb40b187df92cb4274e87c",
            "7495ceb0e0194fdf9ab051f7f31fd7ba",
            "baaabcbcb4f74646bc5aebb8a984fd65",
            "28d65b2285394057be5b6563509f418b",
            "4f16ae2656f6431b8cb1c245c7fdeddc",
            "73ab17e5cf2447cca0ca6af4af358eb9",
            "d81147dfe3e54f28a9d5dc0ea59583fe",
            "de2f7927c009467cbd176f3d81066931",
            "df7678182bf44a79bb7d9094919c0933",
            "240f34b0af9a46f295700475deae91b1",
            "f1107d949a1741a0a58a0dd3a8d305de",
            "a6e02d75083e48eb8283abe22027193c",
            "39a0b2c0f697473bb87d7f9153bd0af6",
            "9d8263964f05420f882309ebf2185440",
            "9e0cde171aba4860a37897d003b3a72f",
            "1d677f9671664ba593630109f2fb2d6c",
            "a4b90603f9904ec0bfab6eed9eef926f",
            "ab3cb2471a13484a8344d7b8c5eb81ec",
            "70c6bc0a85d44fc09c326980f97bc807",
            "2a29eb80caaa4a04a66b81996d97153a",
            "ed6d717865d44fd18d6835728a1844e7",
            "de8c78325f5a413593d8b794150d428a",
            "78379246a172496797718854358299ce",
            "b3813c3a51f8449099d12b611b7b4d52",
            "d227f7a6b1c94b85b4a9063367f8aaa7",
            "7305b36745a34b04acf13d7d1b363aba",
            "52225752666344ae92afcc40088cf697",
            "335d18e5c01748b785f4c558ffb0f5b5",
            "96ddb170373040519d4053ef7de348de",
            "5257c89dfe234352aa2a030dede0757d",
            "268b99a03ec44819a86014645735fc34",
            "4282f41db947442aa119f7417ba5c146",
            "ec0275f1750b4c7b938a36fb287b53fa",
            "50aea7db5f8a49b99bc9223665c81a52",
            "21989a3a96314b28b62c9debc5ea3a1d",
            "faecb3b0ad924ddba1ad9ccb3f44aea5",
            "f2791a6265aa4f779c07fe8b954b90eb",
            "aa36d8efff844d9cbbf0707a855df1e7",
            "363806d35b9f4647918b3f5ad3c0bbb0",
            "f6f7ea78af514978b210e623019488b0",
            "d990bbe048694c66a1d8804488c9c881",
            "c93881b1fa4a4734b447469fe31b6882",
            "90409213b883462d99514b8a6843696f",
            "534cb2f5d0b348c692b94b03b9ef497f",
            "7f2c2c3cfde3465da2ae38a0be89338b",
            "1a3f5a5b0e4641c08369e661409efe4f",
            "29983a7478284b12836c98eb7662f060",
            "66928df5bace435f8da01d5bd236de0c",
            "c97789c6a1bc40b3a9879a00da26ec3e"
          ]
        },
        "id": "rNrtkUxqT1qt",
        "outputId": "df9b4e47-c1d3-429a-8539-448394a907a2"
      },
      "execution_count": null,
      "outputs": [
        {
          "output_type": "display_data",
          "data": {
            "text/plain": [
              "Downloading (…)okenizer_config.json:   0%|          | 0.00/29.0 [00:00<?, ?B/s]"
            ],
            "application/vnd.jupyter.widget-view+json": {
              "version_major": 2,
              "version_minor": 0,
              "model_id": "2600f67ad6364a4881b4d4ae7c74bddd"
            }
          },
          "metadata": {}
        },
        {
          "output_type": "display_data",
          "data": {
            "text/plain": [
              "Downloading (…)lve/main/config.json:   0%|          | 0.00/624 [00:00<?, ?B/s]"
            ],
            "application/vnd.jupyter.widget-view+json": {
              "version_major": 2,
              "version_minor": 0,
              "model_id": "73ab17e5cf2447cca0ca6af4af358eb9"
            }
          },
          "metadata": {}
        },
        {
          "output_type": "display_data",
          "data": {
            "text/plain": [
              "Downloading (…)solve/main/vocab.txt:   0%|          | 0.00/110k [00:00<?, ?B/s]"
            ],
            "application/vnd.jupyter.widget-view+json": {
              "version_major": 2,
              "version_minor": 0,
              "model_id": "a4b90603f9904ec0bfab6eed9eef926f"
            }
          },
          "metadata": {}
        },
        {
          "output_type": "display_data",
          "data": {
            "text/plain": [
              "Downloading (…)/main/tokenizer.json:   0%|          | 0.00/269k [00:00<?, ?B/s]"
            ],
            "application/vnd.jupyter.widget-view+json": {
              "version_major": 2,
              "version_minor": 0,
              "model_id": "335d18e5c01748b785f4c558ffb0f5b5"
            }
          },
          "metadata": {}
        },
        {
          "output_type": "display_data",
          "data": {
            "text/plain": [
              "Downloading (…)\"pytorch_model.bin\";:   0%|          | 0.00/412M [00:00<?, ?B/s]"
            ],
            "application/vnd.jupyter.widget-view+json": {
              "version_major": 2,
              "version_minor": 0,
              "model_id": "363806d35b9f4647918b3f5ad3c0bbb0"
            }
          },
          "metadata": {}
        },
        {
          "output_type": "stream",
          "name": "stderr",
          "text": [
            "Some weights of the model checkpoint at bert-base-chinese were not used when initializing BertForMaskedLM: ['cls.seq_relationship.weight', 'cls.seq_relationship.bias']\n",
            "- This IS expected if you are initializing BertForMaskedLM from the checkpoint of a model trained on another task or with another architecture (e.g. initializing a BertForSequenceClassification model from a BertForPreTraining model).\n",
            "- This IS NOT expected if you are initializing BertForMaskedLM from the checkpoint of a model that you expect to be exactly identical (initializing a BertForSequenceClassification model from a BertForSequenceClassification model).\n"
          ]
        }
      ]
    },
    {
      "cell_type": "code",
      "source": [
        "sample = dataset[\"train\"][\"text\"][0]\n",
        "sample"
      ],
      "metadata": {
        "colab": {
          "base_uri": "https://localhost:8080/",
          "height": 36
        },
        "id": "3eXd47iBufSb",
        "outputId": "9d24ba8b-4f59-4082-af0f-34e2a27733ef"
      },
      "execution_count": null,
      "outputs": [
        {
          "output_type": "execute_result",
          "data": {
            "text/plain": [
              "'professor 和 Carol 都 不 gostar banana 太 bonito 了 吗'"
            ],
            "application/vnd.google.colaboratory.intrinsic+json": {
              "type": "string"
            }
          },
          "metadata": {},
          "execution_count": 14
        }
      ]
    },
    {
      "cell_type": "markdown",
      "source": [
        "Por exemplo, olhe como o tokenizador desse modelo não realiza um bom trabalho na frase escrita em portuchinês. "
      ],
      "metadata": {
        "id": "8t3RxOuTE5Mi"
      }
    },
    {
      "cell_type": "code",
      "source": [
        "print(tokenizer.tokenize(sample))"
      ],
      "metadata": {
        "colab": {
          "base_uri": "https://localhost:8080/"
        },
        "id": "bGr0MoL0ufPS",
        "outputId": "c0bb997a-a5dd-459a-dd3c-ecd93eb95980"
      },
      "execution_count": null,
      "outputs": [
        {
          "output_type": "stream",
          "name": "stdout",
          "text": [
            "['pro', '##fe', '##ss', '##or', '和', '[UNK]', '都', '不', 'go', '##star', 'ba', '##nan', '##a', '太', 'bo', '##ni', '##to', '了', '吗']\n"
          ]
        }
      ]
    },
    {
      "cell_type": "code",
      "source": [
        "tokenizer.vocab_size"
      ],
      "metadata": {
        "colab": {
          "base_uri": "https://localhost:8080/"
        },
        "id": "1BvG-rASxOhU",
        "outputId": "4055c9ae-91d4-42a1-b10e-6d3f43b9da9c"
      },
      "execution_count": null,
      "outputs": [
        {
          "output_type": "execute_result",
          "data": {
            "text/plain": [
              "21128"
            ]
          },
          "metadata": {},
          "execution_count": 16
        }
      ]
    },
    {
      "cell_type": "markdown",
      "source": [
        "Aqui realizamos um retreino do tokenizador no dataset de treino."
      ],
      "metadata": {
        "id": "UvuJWxmYFPwa"
      }
    },
    {
      "cell_type": "code",
      "source": [
        "pt_tokenizer = tokenizer.train_new_from_iterator(dataset[\"train\"][\"text\"], 22_000)\n",
        "pt_tokenizer.vocab_size"
      ],
      "metadata": {
        "colab": {
          "base_uri": "https://localhost:8080/"
        },
        "id": "TMKrPDfudS_N",
        "outputId": "30be79ea-cef7-4be8-e1c1-8b76198368d8"
      },
      "execution_count": null,
      "outputs": [
        {
          "output_type": "execute_result",
          "data": {
            "text/plain": [
              "258"
            ]
          },
          "metadata": {},
          "execution_count": 17
        }
      ]
    },
    {
      "cell_type": "code",
      "source": [
        "new_tokens = set(pt_tokenizer.vocab.keys()) - set(tokenizer.vocab.keys())\n",
        "print(new_tokens)"
      ],
      "metadata": {
        "id": "guslzkxvw78L",
        "colab": {
          "base_uri": "https://localhost:8080/"
        },
        "outputId": "2363f4ef-5440-4d07-89da-aa43e16212b0"
      },
      "execution_count": null,
      "outputs": [
        {
          "output_type": "stream",
          "name": "stdout",
          "text": [
            "{'cinco', 'banana', 'gato', '##nco', 'trabalho', 'Diego', 'eles', 'três', '##ante', 'dois', 'un', 'por', '##cu', 'quatro', 'USP', 'emocionante', 'casa', '##onante', 'leg', '##ldade', 'tarde', '##hã', '##ç', 'aluno', 'S', '##ado', 'sete', 'P', 'D', 'ê', 'eu', '##ê', 'divertido', 'bon', 'comer', '##ido', 'profes', 'passado', '##fes', '##dade', '##acha', 'nó', '##ej', 'escola', 'cas', '##tido', 'elas', '##sor', '##sado', 'cachorro', 'ban', 'amar', 'desejar', 'ach', 'nove', 'oito', 'U', 'doze', 'Car', 'melancia', 'cach', '##anhã', '##erante', '##oci', 'bol', '##ês', '##ó', 'universidade', 'exuberante', 'achar', '##uno', 'bolacha', 'tar', 'melan', 'Carol', 'maçã', 'nós', 'legal', '##ã', 'vem', 'Di', 'gostar', 'ã', 'porco', 'ela', 'escol', 'duzia', 'emoci', 'ontem', 'faculdade', '##iv', 'pas', '##idade', 'onze', '##iver', 'hoje', '##çã', '##atro', 'trab', 'desej', 'ç', 'professor', 'cedo', 'que', 'meia', 'bonito', 'C', '##S', 'diver', '##P', 'seis', '##je', 'facu', 'exub', 'noite', '##zia', '##orro', '##iversidade', 'ele', '##col', 'tr', 'qu', '##alho', 'ano', '##sidade', '##ego', 'ó', '##tem', 'dez', 'amanhã', 'US'}\n"
          ]
        }
      ]
    },
    {
      "cell_type": "code",
      "source": [
        "tokenizer.add_tokens(list(new_tokens))\n",
        "len(tokenizer)"
      ],
      "metadata": {
        "colab": {
          "base_uri": "https://localhost:8080/"
        },
        "id": "mTcXxZWqxcL-",
        "outputId": "6b347922-9764-459a-e160-efd29776b072"
      },
      "execution_count": null,
      "outputs": [
        {
          "output_type": "execute_result",
          "data": {
            "text/plain": [
              "21259"
            ]
          },
          "metadata": {},
          "execution_count": 19
        }
      ]
    },
    {
      "cell_type": "code",
      "source": [
        "model.resize_token_embeddings(len(tokenizer))"
      ],
      "metadata": {
        "colab": {
          "base_uri": "https://localhost:8080/"
        },
        "id": "zdp-rn83EV64",
        "outputId": "f23baddb-d99d-4d58-ce95-be5918203ef1"
      },
      "execution_count": null,
      "outputs": [
        {
          "output_type": "execute_result",
          "data": {
            "text/plain": [
              "Embedding(21259, 768)"
            ]
          },
          "metadata": {},
          "execution_count": 20
        }
      ]
    },
    {
      "cell_type": "markdown",
      "source": [
        "Agora, após o retreino, temos uma tokenização perfeita para o nosso dataset. O que será imprescindível para retreinarmos o modelo de linguagem BERT. "
      ],
      "metadata": {
        "id": "mJfXU6dmFZ-p"
      }
    },
    {
      "cell_type": "code",
      "source": [
        "print(tokenizer.tokenize(sample))"
      ],
      "metadata": {
        "colab": {
          "base_uri": "https://localhost:8080/"
        },
        "id": "5cx7X-VrxlKB",
        "outputId": "d5b1fdd8-9c73-42f2-823f-0ecdbb1b2b08"
      },
      "execution_count": null,
      "outputs": [
        {
          "output_type": "stream",
          "name": "stdout",
          "text": [
            "['professor', '和', 'Carol', '都', '不', 'gostar', 'banana', '太', 'bonito', '了', '吗']\n"
          ]
        }
      ]
    },
    {
      "cell_type": "markdown",
      "source": [
        "## Experimentando com o modelo pré-treino\n",
        "\n",
        "Antes de treinar o modelo vamos ver como ele se comporta numa frase de exemplo. No caso do BERT, usamos o token [MASK] para simplesmente ocultar uma palavra de nossa frase e o que o modelo simplesmente fará é, dado seu conhecimento da linguagem em que foi treinado, prever qual palavra que mais se adequa àquele **contexto**."
      ],
      "metadata": {
        "id": "UzGz-gMeF0Rr"
      }
    },
    {
      "cell_type": "code",
      "source": [
        "from transformers import pipeline\n",
        "\n",
        "classifier = pipeline(task=\"fill-mask\", model=model, tokenizer=tokenizer)"
      ],
      "metadata": {
        "id": "o--QE2tSdQ8l"
      },
      "execution_count": null,
      "outputs": []
    },
    {
      "cell_type": "markdown",
      "source": [
        "### Experimento 1: Duplicação Verbal\n",
        "\n",
        "A duplicação de verbos é uma característica única da língua mandarim, que envolve a repetição de um verbo duas vezes para enfatizar seu significado. Essa técnica é usada para expressar emoções fortes ou para enfatizar uma ação. Também pode ser usado para adicionar ênfase ou clareza ao falar em mandarim. \n",
        "\n",
        "No caso do portuchinês ela também está presente. Entretanto, os verbos estão em português e não em mandarim. Logo, o modelo é incapaz de prever que esse fenômeno ocorre na frase abaixo. "
      ],
      "metadata": {
        "id": "Th4HH5Y1GlRY"
      }
    },
    {
      "cell_type": "code",
      "source": [
        "text = \"elas 和 ela 都 不 ver [MASK] seis 太 个 maçã divertido 了 怎么\""
      ],
      "metadata": {
        "id": "E-0iN-L6dtBU"
      },
      "execution_count": null,
      "outputs": []
    },
    {
      "cell_type": "code",
      "source": [
        "classifier(text)"
      ],
      "metadata": {
        "colab": {
          "base_uri": "https://localhost:8080/"
        },
        "id": "n9UfcpWheXhK",
        "outputId": "594a68c3-4d56-41d7-ce28-3096aef37d4b"
      },
      "execution_count": null,
      "outputs": [
        {
          "output_type": "execute_result",
          "data": {
            "text/plain": [
              "[{'score': 0.6550114750862122,\n",
              "  'token': 11912,\n",
              "  'token_str': '##tical',\n",
              "  'sequence': 'elas 和 ela 都 不 vertical seis 太 个 maçã divertido 了 怎 么'},\n",
              " {'score': 0.0376930870115757,\n",
              "  'token': 8169,\n",
              "  'token_str': '##i',\n",
              "  'sequence': 'elas 和 ela 都 不 veri seis 太 个 maçã divertido 了 怎 么'},\n",
              " {'score': 0.030679529532790184,\n",
              "  'token': 8165,\n",
              "  'token_str': '##t',\n",
              "  'sequence': 'elas 和 ela 都 不 vert seis 太 个 maçã divertido 了 怎 么'},\n",
              " {'score': 0.01704753190279007,\n",
              "  'token': 8204,\n",
              "  'token_str': '##b',\n",
              "  'sequence': 'elas 和 ela 都 不 verb seis 太 个 maçã divertido 了 怎 么'},\n",
              " {'score': 0.01231157872825861,\n",
              "  'token': 8299,\n",
              "  'token_str': '##te',\n",
              "  'sequence': 'elas 和 ela 都 不 verte seis 太 个 maçã divertido 了 怎 么'}]"
            ]
          },
          "metadata": {},
          "execution_count": 24
        }
      ]
    },
    {
      "cell_type": "markdown",
      "source": [
        "## Pré-processamento do Dataset\n",
        "\n",
        "Para que nosso dataset seja processado pelo modelo BERT temos que adequar o input as configurações que esse modelo foi treinada. Nesse caso, vamos aplicar o tokenizador e depois adicionar padding ao exemplos. Assim, quando o modelo for treinar ele não irar disparar nenhum erro ou \"estranhar\" os exemplos dados - dificultando seu aprendizado."
      ],
      "metadata": {
        "id": "sFr0OMkhHV-I"
      }
    },
    {
      "cell_type": "code",
      "source": [
        "import numpy as np\n",
        "import pandas as pd\n",
        "\n",
        "def tokenize_and_pad(text):\n",
        "  tokens = tokenizer(text)\n",
        "\n",
        "  N = len(tokens[\"input_ids\"])\n",
        "\n",
        "  tokens[\"input_ids\"] = [tokens[\"input_ids\"][i] if i < N else 0 for i in range(512)]\n",
        "  tokens[\"token_type_ids\"] = [tokens[\"token_type_ids\"][i] if i < N else 0 for i in range(512)]\n",
        "  tokens[\"attention_mask\"] = [tokens[\"attention_mask\"][i] if i < N else 0 for i in range(512)]\n",
        "  tokens[\"word_ids\"] = [tokens.word_ids(0)[i] if i < N else 0 for i in range(512)]\n",
        "\n",
        "  return tokens\n"
      ],
      "metadata": {
        "id": "-t3ZItwIGUA4"
      },
      "execution_count": null,
      "outputs": []
    },
    {
      "cell_type": "code",
      "source": [
        "def tokenize_function(dataset):\n",
        "    result = {\n",
        "        \"input_ids\": [],\n",
        "        \"token_type_ids\": [],\n",
        "        \"attention_mask\": [],\n",
        "        \"word_ids\": []\n",
        "    }\n",
        "    \n",
        "    for text in dataset[\"text\"]:\n",
        "      tokens = tokenize_and_pad(text)\n",
        "      \n",
        "      for key in result.keys():\n",
        "        result[key].append(tokens[key])\n",
        "    \n",
        "    return result"
      ],
      "metadata": {
        "id": "-W3Wx79SeaYK"
      },
      "execution_count": null,
      "outputs": []
    },
    {
      "cell_type": "code",
      "source": [
        "tokenized_datasets = dataset.map(\n",
        "    tokenize_function, batched=True, remove_columns=['sujeitos', 'verbo', 'numerais', 'objeto', 'tempo', 'local']\n",
        ")\n",
        "tokenized_datasets"
      ],
      "metadata": {
        "colab": {
          "base_uri": "https://localhost:8080/",
          "height": 200,
          "referenced_widgets": [
            "0a4b889460d94fec956aa563f1a4c6d6",
            "f4d1004b78354005bcea43ee3c797dfe",
            "ca19126ffcd64d6a8b02e04169525909",
            "a338a133b95f4ee692f89ec51b88767f",
            "7010605041e144a0a22520d6c9fb6955",
            "8fc4d691305249348dd31c255ef13022",
            "4d75dda7daab40f9bb950ffffb3028e1",
            "de45835c81a44e28ba7ef203c369b600",
            "d25b65430c2c4a9bbc4ca98bf5dbb2fc",
            "739c9babdd1c4c699546788bdbb5c124",
            "522dd71d6a3045809d022b81a26d843b",
            "f6f059015eec4ca98f03fc0c0c44120c",
            "06482d3eab844031aec432d4f14d6f90",
            "c2e5834ffdbc49d8a96c9cd2e73d66f4",
            "221fac3b27094d4ea41e7ff12074f5d0",
            "fa8deb857ec74c7c8dba6c44fc1c7a61",
            "4cbf3f4498ca420497d430c5d317cac2",
            "edc312ea05a044709bf22b5818f840a1",
            "ac529358fccc4bacbba52ed286d11d13",
            "2a294cdd57c64313b0412ada849b5a49",
            "eb20a7db8dac4147865b416fb1dd3625",
            "51bc69a851fb48c6ab7dcc726e9ee92f"
          ]
        },
        "id": "r4R0GmqsyvO4",
        "outputId": "141a2170-d86e-45f2-a709-74cad442d4bd"
      },
      "execution_count": null,
      "outputs": [
        {
          "output_type": "display_data",
          "data": {
            "text/plain": [
              "Map:   0%|          | 0/7500 [00:00<?, ? examples/s]"
            ],
            "application/vnd.jupyter.widget-view+json": {
              "version_major": 2,
              "version_minor": 0,
              "model_id": "0a4b889460d94fec956aa563f1a4c6d6"
            }
          },
          "metadata": {}
        },
        {
          "output_type": "display_data",
          "data": {
            "text/plain": [
              "Map:   0%|          | 0/2500 [00:00<?, ? examples/s]"
            ],
            "application/vnd.jupyter.widget-view+json": {
              "version_major": 2,
              "version_minor": 0,
              "model_id": "f6f059015eec4ca98f03fc0c0c44120c"
            }
          },
          "metadata": {}
        },
        {
          "output_type": "execute_result",
          "data": {
            "text/plain": [
              "DatasetDict({\n",
              "    train: Dataset({\n",
              "        features: ['text', 'input_ids', 'token_type_ids', 'attention_mask', 'word_ids'],\n",
              "        num_rows: 7500\n",
              "    })\n",
              "    test: Dataset({\n",
              "        features: ['text', 'input_ids', 'token_type_ids', 'attention_mask', 'word_ids'],\n",
              "        num_rows: 2500\n",
              "    })\n",
              "})"
            ]
          },
          "metadata": {},
          "execution_count": 27
        }
      ]
    },
    {
      "cell_type": "code",
      "source": [
        "tokenized_datasets[\"train\"][\"text\"][0]"
      ],
      "metadata": {
        "colab": {
          "base_uri": "https://localhost:8080/",
          "height": 36
        },
        "id": "o8J1PejKUgqQ",
        "outputId": "daa8307c-1dbf-4af5-b447-1a3b426f4812"
      },
      "execution_count": null,
      "outputs": [
        {
          "output_type": "execute_result",
          "data": {
            "text/plain": [
              "'professor 和 Carol 都 不 gostar banana 太 bonito 了 吗'"
            ],
            "application/vnd.google.colaboratory.intrinsic+json": {
              "type": "string"
            }
          },
          "metadata": {},
          "execution_count": 28
        }
      ]
    },
    {
      "cell_type": "code",
      "source": [
        "print(tokenized_datasets[\"train\"][\"input_ids\"][0])"
      ],
      "metadata": {
        "colab": {
          "base_uri": "https://localhost:8080/"
        },
        "id": "PHDxeTZjUm2x",
        "outputId": "f98333de-af42-4e23-e0ef-fd997659b188"
      },
      "execution_count": null,
      "outputs": [
        {
          "output_type": "stream",
          "name": "stdout",
          "text": [
            "[101, 21229, 1469, 21202, 6963, 679, 21209, 21129, 1922, 21233, 749, 1408, 102, 0, 0, 0, 0, 0, 0, 0, 0, 0, 0, 0, 0, 0, 0, 0, 0, 0, 0, 0, 0, 0, 0, 0, 0, 0, 0, 0, 0, 0, 0, 0, 0, 0, 0, 0, 0, 0, 0, 0, 0, 0, 0, 0, 0, 0, 0, 0, 0, 0, 0, 0, 0, 0, 0, 0, 0, 0, 0, 0, 0, 0, 0, 0, 0, 0, 0, 0, 0, 0, 0, 0, 0, 0, 0, 0, 0, 0, 0, 0, 0, 0, 0, 0, 0, 0, 0, 0, 0, 0, 0, 0, 0, 0, 0, 0, 0, 0, 0, 0, 0, 0, 0, 0, 0, 0, 0, 0, 0, 0, 0, 0, 0, 0, 0, 0, 0, 0, 0, 0, 0, 0, 0, 0, 0, 0, 0, 0, 0, 0, 0, 0, 0, 0, 0, 0, 0, 0, 0, 0, 0, 0, 0, 0, 0, 0, 0, 0, 0, 0, 0, 0, 0, 0, 0, 0, 0, 0, 0, 0, 0, 0, 0, 0, 0, 0, 0, 0, 0, 0, 0, 0, 0, 0, 0, 0, 0, 0, 0, 0, 0, 0, 0, 0, 0, 0, 0, 0, 0, 0, 0, 0, 0, 0, 0, 0, 0, 0, 0, 0, 0, 0, 0, 0, 0, 0, 0, 0, 0, 0, 0, 0, 0, 0, 0, 0, 0, 0, 0, 0, 0, 0, 0, 0, 0, 0, 0, 0, 0, 0, 0, 0, 0, 0, 0, 0, 0, 0, 0, 0, 0, 0, 0, 0, 0, 0, 0, 0, 0, 0, 0, 0, 0, 0, 0, 0, 0, 0, 0, 0, 0, 0, 0, 0, 0, 0, 0, 0, 0, 0, 0, 0, 0, 0, 0, 0, 0, 0, 0, 0, 0, 0, 0, 0, 0, 0, 0, 0, 0, 0, 0, 0, 0, 0, 0, 0, 0, 0, 0, 0, 0, 0, 0, 0, 0, 0, 0, 0, 0, 0, 0, 0, 0, 0, 0, 0, 0, 0, 0, 0, 0, 0, 0, 0, 0, 0, 0, 0, 0, 0, 0, 0, 0, 0, 0, 0, 0, 0, 0, 0, 0, 0, 0, 0, 0, 0, 0, 0, 0, 0, 0, 0, 0, 0, 0, 0, 0, 0, 0, 0, 0, 0, 0, 0, 0, 0, 0, 0, 0, 0, 0, 0, 0, 0, 0, 0, 0, 0, 0, 0, 0, 0, 0, 0, 0, 0, 0, 0, 0, 0, 0, 0, 0, 0, 0, 0, 0, 0, 0, 0, 0, 0, 0, 0, 0, 0, 0, 0, 0, 0, 0, 0, 0, 0, 0, 0, 0, 0, 0, 0, 0, 0, 0, 0, 0, 0, 0, 0, 0, 0, 0, 0, 0, 0, 0, 0, 0, 0, 0, 0, 0, 0, 0, 0, 0, 0, 0, 0, 0, 0, 0, 0, 0, 0, 0, 0, 0, 0, 0, 0, 0, 0, 0, 0, 0, 0, 0, 0, 0, 0, 0, 0, 0, 0, 0, 0, 0, 0, 0, 0, 0, 0, 0, 0, 0, 0, 0, 0, 0, 0, 0, 0, 0, 0, 0, 0, 0, 0, 0, 0]\n"
          ]
        }
      ]
    },
    {
      "cell_type": "code",
      "source": [
        "tokenizer.decode(tokenized_datasets[\"train\"][\"input_ids\"][0])"
      ],
      "metadata": {
        "colab": {
          "base_uri": "https://localhost:8080/",
          "height": 127
        },
        "id": "DOKsnLE3zIMo",
        "outputId": "c1a43e69-0e42-4a01-d579-e9603d652076"
      },
      "execution_count": null,
      "outputs": [
        {
          "output_type": "execute_result",
          "data": {
            "text/plain": [
              "'[CLS] professor 和 Carol 都 不 gostar banana 太 bonito 了 吗 [SEP] [PAD] [PAD] [PAD] [PAD] [PAD] [PAD] [PAD] [PAD] [PAD] [PAD] [PAD] [PAD] [PAD] [PAD] [PAD] [PAD] [PAD] [PAD] [PAD] [PAD] [PAD] [PAD] [PAD] [PAD] [PAD] [PAD] [PAD] [PAD] [PAD] [PAD] [PAD] [PAD] [PAD] [PAD] [PAD] [PAD] [PAD] [PAD] [PAD] [PAD] [PAD] [PAD] [PAD] [PAD] [PAD] [PAD] [PAD] [PAD] [PAD] [PAD] [PAD] [PAD] [PAD] [PAD] [PAD] [PAD] [PAD] [PAD] [PAD] [PAD] [PAD] [PAD] [PAD] [PAD] [PAD] [PAD] [PAD] [PAD] [PAD] [PAD] [PAD] [PAD] [PAD] [PAD] [PAD] [PAD] [PAD] [PAD] [PAD] [PAD] [PAD] [PAD] [PAD] [PAD] [PAD] [PAD] [PAD] [PAD] [PAD] [PAD] [PAD] [PAD] [PAD] [PAD] [PAD] [PAD] [PAD] [PAD] [PAD] [PAD] [PAD] [PAD] [PAD] [PAD] [PAD] [PAD] [PAD] [PAD] [PAD] [PAD] [PAD] [PAD] [PAD] [PAD] [PAD] [PAD] [PAD] [PAD] [PAD] [PAD] [PAD] [PAD] [PAD] [PAD] [PAD] [PAD] [PAD] [PAD] [PAD] [PAD] [PAD] [PAD] [PAD] [PAD] [PAD] [PAD] [PAD] [PAD] [PAD] [PAD] [PAD] [PAD] [PAD] [PAD] [PAD] [PAD] [PAD] [PAD] [PAD] [PAD] [PAD] [PAD] [PAD] [PAD] [PAD] [PAD] [PAD] [PAD] [PAD] [PAD] [PAD] [PAD] [PAD] [PAD] [PAD] [PAD] [PAD] [PAD] [PAD] [PAD] [PAD] [PAD] [PAD] [PAD] [PAD] [PAD] [PAD] [PAD] [PAD] [PAD] [PAD] [PAD] [PAD] [PAD] [PAD] [PAD] [PAD] [PAD] [PAD] [PAD] [PAD] [PAD] [PAD] [PAD] [PAD] [PAD] [PAD] [PAD] [PAD] [PAD] [PAD] [PAD] [PAD] [PAD] [PAD] [PAD] [PAD] [PAD] [PAD] [PAD] [PAD] [PAD] [PAD] [PAD] [PAD] [PAD] [PAD] [PAD] [PAD] [PAD] [PAD] [PAD] [PAD] [PAD] [PAD] [PAD] [PAD] [PAD] [PAD] [PAD] [PAD] [PAD] [PAD] [PAD] [PAD] [PAD] [PAD] [PAD] [PAD] [PAD] [PAD] [PAD] [PAD] [PAD] [PAD] [PAD] [PAD] [PAD] [PAD] [PAD] [PAD] [PAD] [PAD] [PAD] [PAD] [PAD] [PAD] [PAD] [PAD] [PAD] [PAD] [PAD] [PAD] [PAD] [PAD] [PAD] [PAD] [PAD] [PAD] [PAD] [PAD] [PAD] [PAD] [PAD] [PAD] [PAD] [PAD] [PAD] [PAD] [PAD] [PAD] [PAD] [PAD] [PAD] [PAD] [PAD] [PAD] [PAD] [PAD] [PAD] [PAD] [PAD] [PAD] [PAD] [PAD] [PAD] [PAD] [PAD] [PAD] [PAD] [PAD] [PAD] [PAD] [PAD] [PAD] [PAD] [PAD] [PAD] [PAD] [PAD] [PAD] [PAD] [PAD] [PAD] [PAD] [PAD] [PAD] [PAD] [PAD] [PAD] [PAD] [PAD] [PAD] [PAD] [PAD] [PAD] [PAD] [PAD] [PAD] [PAD] [PAD] [PAD] [PAD] [PAD] [PAD] [PAD] [PAD] [PAD] [PAD] [PAD] [PAD] [PAD] [PAD] [PAD] [PAD] [PAD] [PAD] [PAD] [PAD] [PAD] [PAD] [PAD] [PAD] [PAD] [PAD] [PAD] [PAD] [PAD] [PAD] [PAD] [PAD] [PAD] [PAD] [PAD] [PAD] [PAD] [PAD] [PAD] [PAD] [PAD] [PAD] [PAD] [PAD] [PAD] [PAD] [PAD] [PAD] [PAD] [PAD] [PAD] [PAD] [PAD] [PAD] [PAD] [PAD] [PAD] [PAD] [PAD] [PAD] [PAD] [PAD] [PAD] [PAD] [PAD] [PAD] [PAD] [PAD] [PAD] [PAD] [PAD] [PAD] [PAD] [PAD] [PAD] [PAD] [PAD] [PAD] [PAD] [PAD] [PAD] [PAD] [PAD] [PAD] [PAD] [PAD] [PAD] [PAD] [PAD] [PAD] [PAD] [PAD] [PAD] [PAD] [PAD] [PAD] [PAD] [PAD] [PAD] [PAD] [PAD] [PAD] [PAD] [PAD] [PAD] [PAD] [PAD] [PAD] [PAD] [PAD] [PAD] [PAD] [PAD] [PAD] [PAD] [PAD] [PAD] [PAD] [PAD] [PAD] [PAD] [PAD] [PAD] [PAD] [PAD] [PAD] [PAD] [PAD] [PAD] [PAD] [PAD] [PAD] [PAD] [PAD] [PAD] [PAD] [PAD] [PAD] [PAD] [PAD] [PAD] [PAD] [PAD] [PAD] [PAD] [PAD] [PAD] [PAD] [PAD] [PAD] [PAD] [PAD] [PAD] [PAD] [PAD] [PAD] [PAD] [PAD] [PAD] [PAD] [PAD] [PAD] [PAD] [PAD] [PAD] [PAD] [PAD] [PAD] [PAD] [PAD]'"
            ],
            "application/vnd.google.colaboratory.intrinsic+json": {
              "type": "string"
            }
          },
          "metadata": {},
          "execution_count": 30
        }
      ]
    },
    {
      "cell_type": "markdown",
      "source": [
        "Aqui vamos usar o data_collator para aplicar aleatóriamente [MASK] em diversos exemplos encontrados em nosso dataset para o modelo aprender qual palavra melhor encaixa em cada contexto."
      ],
      "metadata": {
        "id": "1UrzW6kiIIBQ"
      }
    },
    {
      "cell_type": "code",
      "source": [
        "from transformers import DataCollatorForLanguageModeling\n",
        "\n",
        "data_collator = DataCollatorForLanguageModeling(tokenizer=tokenizer, mlm_probability=0.15)"
      ],
      "metadata": {
        "id": "I89NqIUK1eZ4"
      },
      "execution_count": null,
      "outputs": []
    },
    {
      "cell_type": "code",
      "source": [
        "train_size = 0.9\n",
        "test_size = 0.1\n",
        "\n",
        "downsampled_dataset = tokenized_datasets[\"train\"].train_test_split(\n",
        "    train_size=train_size, test_size=test_size, seed=42\n",
        ")\n",
        "downsampled_dataset"
      ],
      "metadata": {
        "id": "0YQqMbSG-p-R",
        "colab": {
          "base_uri": "https://localhost:8080/"
        },
        "outputId": "3757e6c6-9aa0-47b1-c6f1-ce61acfdf68a"
      },
      "execution_count": null,
      "outputs": [
        {
          "output_type": "execute_result",
          "data": {
            "text/plain": [
              "DatasetDict({\n",
              "    train: Dataset({\n",
              "        features: ['text', 'input_ids', 'token_type_ids', 'attention_mask', 'word_ids'],\n",
              "        num_rows: 6750\n",
              "    })\n",
              "    test: Dataset({\n",
              "        features: ['text', 'input_ids', 'token_type_ids', 'attention_mask', 'word_ids'],\n",
              "        num_rows: 750\n",
              "    })\n",
              "})"
            ]
          },
          "metadata": {},
          "execution_count": 32
        }
      ]
    },
    {
      "cell_type": "markdown",
      "source": [
        "## Transferência de Aprenziado via treino do modelo\n",
        "\n",
        "Agora, vamos de fato treinar nosso modelo de linguagem do mandarim para o portuchinês. Para se ter uma ideia ele consiste de nada menos do que 102.290.312 parâmetros que precisam ser ajustados para esssa nova linguagem.  "
      ],
      "metadata": {
        "id": "syJYMOumIzWf"
      }
    },
    {
      "cell_type": "code",
      "source": [
        "from transformers import TrainingArguments\n",
        "\n",
        "batch_size = 16\n",
        "# Show the training loss with every epoch\n",
        "logging_steps = len(downsampled_dataset[\"train\"]) // batch_size\n",
        "model_name = \"bert-base-portuchines\"\n",
        "\n",
        "training_args = TrainingArguments(\n",
        "    output_dir=model_name,\n",
        "    overwrite_output_dir=True,\n",
        "    evaluation_strategy=\"epoch\",\n",
        "    learning_rate=2e-5,\n",
        "    weight_decay=0.01,\n",
        "    num_train_epochs=4,\n",
        "    per_device_train_batch_size=batch_size,\n",
        "    per_device_eval_batch_size=batch_size,\n",
        "    push_to_hub=False,\n",
        "    fp16=False,\n",
        "    logging_steps=logging_steps,\n",
        ")"
      ],
      "metadata": {
        "id": "vUJYpHeg7vlp"
      },
      "execution_count": null,
      "outputs": []
    },
    {
      "cell_type": "markdown",
      "source": [
        "Como podemos ver o modelo foi treinado em 4 épocas obteve a seguinte curva de aprendizado.\n",
        "\n",
        "![image.png](data:image/png;base64,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)\n",
        "\n",
        "Mostrando uma melhora a cada epoca. No final, vamos salvar a última versão do modelo e salvá-la em arquivo zip para que ele possa ser compartilhado e usado posteriormente."
      ],
      "metadata": {
        "id": "dJi9XScqJfV_"
      }
    },
    {
      "cell_type": "code",
      "source": [
        "from transformers import Trainer\n",
        "\n",
        "trainer = Trainer(\n",
        "    model=model,\n",
        "    args=training_args,\n",
        "    train_dataset=downsampled_dataset[\"train\"],\n",
        "    eval_dataset=downsampled_dataset[\"test\"],\n",
        "    data_collator=data_collator,\n",
        "    tokenizer=tokenizer,\n",
        ")"
      ],
      "metadata": {
        "id": "q0PTlj4_9oQn"
      },
      "execution_count": null,
      "outputs": []
    },
    {
      "cell_type": "code",
      "source": [
        "trainer.train()"
      ],
      "metadata": {
        "id": "RqX_npVz_ONK",
        "colab": {
          "base_uri": "https://localhost:8080/",
          "height": 1000
        },
        "outputId": "07131835-13c0-49f8-b1dc-965fb3aaaa49"
      },
      "execution_count": null,
      "outputs": [
        {
          "output_type": "stream",
          "name": "stderr",
          "text": [
            "The following columns in the training set don't have a corresponding argument in `BertForMaskedLM.forward` and have been ignored: word_ids, text. If word_ids, text are not expected by `BertForMaskedLM.forward`,  you can safely ignore this message.\n",
            "/usr/local/lib/python3.8/dist-packages/transformers/optimization.py:306: FutureWarning: This implementation of AdamW is deprecated and will be removed in a future version. Use the PyTorch implementation torch.optim.AdamW instead, or set `no_deprecation_warning=True` to disable this warning\n",
            "  warnings.warn(\n",
            "***** Running training *****\n",
            "  Num examples = 6750\n",
            "  Num Epochs = 4\n",
            "  Instantaneous batch size per device = 16\n",
            "  Total train batch size (w. parallel, distributed & accumulation) = 16\n",
            "  Gradient Accumulation steps = 1\n",
            "  Total optimization steps = 1688\n",
            "  Number of trainable parameters = 102391051\n",
            "You're using a BertTokenizerFast tokenizer. Please note that with a fast tokenizer, using the `__call__` method is faster than using a method to encode the text followed by a call to the `pad` method to get a padded encoding.\n"
          ]
        },
        {
          "output_type": "display_data",
          "data": {
            "text/plain": [
              "<IPython.core.display.HTML object>"
            ],
            "text/html": [
              "\n",
              "    <div>\n",
              "      \n",
              "      <progress value='1688' max='1688' style='width:300px; height:20px; vertical-align: middle;'></progress>\n",
              "      [1688/1688 12:49, Epoch 4/4]\n",
              "    </div>\n",
              "    <table border=\"1\" class=\"dataframe\">\n",
              "  <thead>\n",
              " <tr style=\"text-align: left;\">\n",
              "      <th>Epoch</th>\n",
              "      <th>Training Loss</th>\n",
              "      <th>Validation Loss</th>\n",
              "    </tr>\n",
              "  </thead>\n",
              "  <tbody>\n",
              "    <tr>\n",
              "      <td>1</td>\n",
              "      <td>2.457000</td>\n",
              "      <td>1.235106</td>\n",
              "    </tr>\n",
              "    <tr>\n",
              "      <td>2</td>\n",
              "      <td>1.171800</td>\n",
              "      <td>0.999604</td>\n",
              "    </tr>\n",
              "    <tr>\n",
              "      <td>3</td>\n",
              "      <td>1.033600</td>\n",
              "      <td>0.993978</td>\n",
              "    </tr>\n",
              "    <tr>\n",
              "      <td>4</td>\n",
              "      <td>1.018200</td>\n",
              "      <td>0.971816</td>\n",
              "    </tr>\n",
              "  </tbody>\n",
              "</table><p>"
            ]
          },
          "metadata": {}
        },
        {
          "output_type": "stream",
          "name": "stderr",
          "text": [
            "The following columns in the evaluation set don't have a corresponding argument in `BertForMaskedLM.forward` and have been ignored: word_ids, text. If word_ids, text are not expected by `BertForMaskedLM.forward`,  you can safely ignore this message.\n",
            "***** Running Evaluation *****\n",
            "  Num examples = 750\n",
            "  Batch size = 16\n",
            "Saving model checkpoint to bert-base-portuchines/checkpoint-500\n",
            "Configuration saved in bert-base-portuchines/checkpoint-500/config.json\n",
            "Configuration saved in bert-base-portuchines/checkpoint-500/generation_config.json\n",
            "Model weights saved in bert-base-portuchines/checkpoint-500/pytorch_model.bin\n",
            "tokenizer config file saved in bert-base-portuchines/checkpoint-500/tokenizer_config.json\n",
            "Special tokens file saved in bert-base-portuchines/checkpoint-500/special_tokens_map.json\n",
            "The following columns in the evaluation set don't have a corresponding argument in `BertForMaskedLM.forward` and have been ignored: word_ids, text. If word_ids, text are not expected by `BertForMaskedLM.forward`,  you can safely ignore this message.\n",
            "***** Running Evaluation *****\n",
            "  Num examples = 750\n",
            "  Batch size = 16\n",
            "Saving model checkpoint to bert-base-portuchines/checkpoint-1000\n",
            "Configuration saved in bert-base-portuchines/checkpoint-1000/config.json\n",
            "Configuration saved in bert-base-portuchines/checkpoint-1000/generation_config.json\n",
            "Model weights saved in bert-base-portuchines/checkpoint-1000/pytorch_model.bin\n",
            "tokenizer config file saved in bert-base-portuchines/checkpoint-1000/tokenizer_config.json\n",
            "Special tokens file saved in bert-base-portuchines/checkpoint-1000/special_tokens_map.json\n",
            "The following columns in the evaluation set don't have a corresponding argument in `BertForMaskedLM.forward` and have been ignored: word_ids, text. If word_ids, text are not expected by `BertForMaskedLM.forward`,  you can safely ignore this message.\n",
            "***** Running Evaluation *****\n",
            "  Num examples = 750\n",
            "  Batch size = 16\n",
            "Saving model checkpoint to bert-base-portuchines/checkpoint-1500\n",
            "Configuration saved in bert-base-portuchines/checkpoint-1500/config.json\n",
            "Configuration saved in bert-base-portuchines/checkpoint-1500/generation_config.json\n",
            "Model weights saved in bert-base-portuchines/checkpoint-1500/pytorch_model.bin\n",
            "tokenizer config file saved in bert-base-portuchines/checkpoint-1500/tokenizer_config.json\n",
            "Special tokens file saved in bert-base-portuchines/checkpoint-1500/special_tokens_map.json\n",
            "The following columns in the evaluation set don't have a corresponding argument in `BertForMaskedLM.forward` and have been ignored: word_ids, text. If word_ids, text are not expected by `BertForMaskedLM.forward`,  you can safely ignore this message.\n",
            "***** Running Evaluation *****\n",
            "  Num examples = 750\n",
            "  Batch size = 16\n",
            "\n",
            "\n",
            "Training completed. Do not forget to share your model on huggingface.co/models =)\n",
            "\n",
            "\n"
          ]
        },
        {
          "output_type": "execute_result",
          "data": {
            "text/plain": [
              "TrainOutput(global_step=1688, training_loss=1.41949171195098, metrics={'train_runtime': 772.3549, 'train_samples_per_second': 34.958, 'train_steps_per_second': 2.186, 'total_flos': 7105761635328000.0, 'train_loss': 1.41949171195098, 'epoch': 4.0})"
            ]
          },
          "metadata": {},
          "execution_count": 35
        }
      ]
    },
    {
      "cell_type": "markdown",
      "source": [
        "## Resultados\n",
        "\n",
        "A perplexidade é uma métrica importante usada para avaliar a qualidade dos modelos de linguagem no processamento de linguagem natural (NLP). Ele mede o quão bem um modelo pode prever a próxima palavra em uma frase e é calculado tomando o inverso da probabilidade de uma determinada frase. A perplexidade é usada para avaliar o quão bem um modelo de linguagem pode gerar um texto semelhante ao texto gerado por humanos. Ao usar a perplexidade, podemos comparar diferentes modelos de linguagem e determinar qual deles tem melhor desempenho.\n",
        "\n",
        "Nosso modelo obteve uma perplexidade de 2.84 que é considerada ótima e para esse exemplo vamos parar seu treinamento por aqui."
      ],
      "metadata": {
        "id": "qKpgjBl4KZOX"
      }
    },
    {
      "cell_type": "code",
      "source": [
        "import math\n",
        "\n",
        "eval_results = trainer.evaluate()\n",
        "print(f\">>> Perplexity: {math.exp(eval_results['eval_loss']):.2f}\")"
      ],
      "metadata": {
        "id": "wxWm_2F2__mc",
        "colab": {
          "base_uri": "https://localhost:8080/",
          "height": 148
        },
        "outputId": "5d4ee539-425d-46e2-8e72-0a2b7cd92f57"
      },
      "execution_count": null,
      "outputs": [
        {
          "output_type": "stream",
          "name": "stderr",
          "text": [
            "The following columns in the evaluation set don't have a corresponding argument in `BertForMaskedLM.forward` and have been ignored: word_ids, text. If word_ids, text are not expected by `BertForMaskedLM.forward`,  you can safely ignore this message.\n",
            "***** Running Evaluation *****\n",
            "  Num examples = 750\n",
            "  Batch size = 16\n"
          ]
        },
        {
          "output_type": "display_data",
          "data": {
            "text/plain": [
              "<IPython.core.display.HTML object>"
            ],
            "text/html": [
              "\n",
              "    <div>\n",
              "      \n",
              "      <progress value='47' max='47' style='width:300px; height:20px; vertical-align: middle;'></progress>\n",
              "      [47/47 00:05]\n",
              "    </div>\n",
              "    "
            ]
          },
          "metadata": {}
        },
        {
          "output_type": "stream",
          "name": "stdout",
          "text": [
            ">>> Perplexity: 2.66\n"
          ]
        }
      ]
    },
    {
      "cell_type": "code",
      "source": [
        "from transformers import pipeline\n",
        "\n",
        "classifier = pipeline(task=\"fill-mask\", model=model.to(\"cpu\"), tokenizer=tokenizer)"
      ],
      "metadata": {
        "id": "tKAIAwH2o3o2"
      },
      "execution_count": null,
      "outputs": []
    },
    {
      "cell_type": "markdown",
      "source": [
        "### Experimento 1: Duplicação Verbal\n",
        "\n",
        "Como podemos ver no resultado abaixo, o modelo pós-treinado foi capaz de prever com uma confiança de 88% que dado um verbo no portuchinês e uma máscara o fenômeno gramatical ocorrido é o da duplicação verbal. "
      ],
      "metadata": {
        "id": "zYvrnTCSLaJP"
      }
    },
    {
      "cell_type": "code",
      "source": [
        "text = \"elas 和 ela 都 不 ver [MASK] seis 太 个 maçã divertido 了 怎么\""
      ],
      "metadata": {
        "id": "pfDoyN2ko__k"
      },
      "execution_count": null,
      "outputs": []
    },
    {
      "cell_type": "code",
      "source": [
        "classifier(text) # ver pela regra de duplicação verbal do mandarim"
      ],
      "metadata": {
        "colab": {
          "base_uri": "https://localhost:8080/"
        },
        "id": "NxOP7nYNpLDY",
        "outputId": "d18dade5-7bac-4a22-cc08-56161f55d1a2"
      },
      "execution_count": null,
      "outputs": [
        {
          "output_type": "execute_result",
          "data": {
            "text/plain": [
              "[{'score': 0.9999583959579468,\n",
              "  'token': 12513,\n",
              "  'token_str': 'ver',\n",
              "  'sequence': 'elas 和 ela 都 不 ver ver seis 太 个 maçã divertido 了 怎 么'},\n",
              " {'score': 1.2454743227863219e-05,\n",
              "  'token': 21180,\n",
              "  'token_str': 'desejar',\n",
              "  'sequence': 'elas 和 ela 都 不 ver desejar seis 太 个 maçã divertido 了 怎 么'},\n",
              " {'score': 1.023336335492786e-05,\n",
              "  'token': 21209,\n",
              "  'token_str': 'gostar',\n",
              "  'sequence': 'elas 和 ela 都 不 ver gostar seis 太 个 maçã divertido 了 怎 么'},\n",
              " {'score': 4.741455541079631e-06,\n",
              "  'token': 21197,\n",
              "  'token_str': 'achar',\n",
              "  'sequence': 'elas 和 ela 都 不 ver achar seis 太 个 maçã divertido 了 怎 么'},\n",
              " {'score': 3.778675591092906e-06,\n",
              "  'token': 21179,\n",
              "  'token_str': 'amar',\n",
              "  'sequence': 'elas 和 ela 都 不 ver amar seis 太 个 maçã divertido 了 怎 么'}]"
            ]
          },
          "metadata": {},
          "execution_count": 39
        }
      ]
    },
    {
      "cell_type": "markdown",
      "source": [
        "### Experimento 2: Modificador 和\n",
        "\n",
        "O modificador 和 é uma parte importante da língua chinesa e é usado para expressar uma variedade de significados. Pode ser usado para indicar uma conexão entre dois substantivos, para expressar concordância ou harmonia entre duas pessoas ou coisas e até mesmo para indicar um contraste entre duas ideias.\n",
        "\n",
        "Em nosso conjunto de dados, foi utilizado para casos em que dois sujeitos realizam uma ação, ou seja, um sujeito composto. E como podemos ver ele prevê com 99% de chances que esse modificador deve ser introduzido no lugar da máscara.\n",
        "\n"
      ],
      "metadata": {
        "id": "VHoObZ6kMFbH"
      }
    },
    {
      "cell_type": "code",
      "source": [
        "text = \"elas [MASK] ela 都 不 ver ver seis 太 个 maçã divertido 了 怎么\""
      ],
      "metadata": {
        "id": "3UcK9nfgpNvw"
      },
      "execution_count": null,
      "outputs": []
    },
    {
      "cell_type": "code",
      "source": [
        "classifier(text) # 和 He pois é usado como \"e\""
      ],
      "metadata": {
        "colab": {
          "base_uri": "https://localhost:8080/"
        },
        "id": "j0Sya2J8pxtE",
        "outputId": "75837d0f-f196-4021-c0cc-64ce80b4a35a"
      },
      "execution_count": null,
      "outputs": [
        {
          "output_type": "execute_result",
          "data": {
            "text/plain": [
              "[{'score': 0.9999085664749146,\n",
              "  'token': 1469,\n",
              "  'token_str': '和',\n",
              "  'sequence': 'elas 和 ela 都 不 ver ver seis 太 个 maçã divertido 了 怎 么'},\n",
              " {'score': 3.918065704056062e-05,\n",
              "  'token': 510,\n",
              "  'token_str': '、',\n",
              "  'sequence': 'elas 、 ela 都 不 ver ver seis 太 个 maçã divertido 了 怎 么'},\n",
              " {'score': 2.225964817625936e-05,\n",
              "  'token': 1350,\n",
              "  'token_str': '及',\n",
              "  'sequence': 'elas 及 ela 都 不 ver ver seis 太 个 maçã divertido 了 怎 么'},\n",
              " {'score': 1.198389054479776e-05,\n",
              "  'token': 6656,\n",
              "  'token_str': '跟',\n",
              "  'sequence': 'elas 跟 ela 都 不 ver ver seis 太 个 maçã divertido 了 怎 么'},\n",
              " {'score': 3.86247711503529e-06,\n",
              "  'token': 21223,\n",
              "  'token_str': 'hoje',\n",
              "  'sequence': 'elas hoje ela 都 不 ver ver seis 太 个 maçã divertido 了 怎 么'}]"
            ]
          },
          "metadata": {},
          "execution_count": 41
        }
      ]
    },
    {
      "cell_type": "markdown",
      "source": [
        "## Salvando o Modelo "
      ],
      "metadata": {
        "id": "TK60clAeTzDg"
      }
    },
    {
      "cell_type": "code",
      "source": [
        "trainer.save_model(\"bert-base-portuchines-lm\")"
      ],
      "metadata": {
        "colab": {
          "base_uri": "https://localhost:8080/"
        },
        "id": "Uuu6LE6Rp14S",
        "outputId": "890b9937-2b75-4d93-f330-d47f5c07cd55"
      },
      "execution_count": null,
      "outputs": [
        {
          "output_type": "stream",
          "name": "stderr",
          "text": [
            "Saving model checkpoint to bert-base-portuchines-lm\n",
            "Configuration saved in bert-base-portuchines-lm/config.json\n",
            "Configuration saved in bert-base-portuchines-lm/generation_config.json\n",
            "Model weights saved in bert-base-portuchines-lm/pytorch_model.bin\n",
            "tokenizer config file saved in bert-base-portuchines-lm/tokenizer_config.json\n",
            "Special tokens file saved in bert-base-portuchines-lm/special_tokens_map.json\n"
          ]
        }
      ]
    },
    {
      "cell_type": "code",
      "source": [
        "!zip -r /content/bert-base-portuchines-lm.zip /content/bert-base-portuchines-lm"
      ],
      "metadata": {
        "colab": {
          "base_uri": "https://localhost:8080/"
        },
        "id": "IR1C-TGY0cUk",
        "outputId": "c443874b-9af7-4081-f7ce-d9a2125f6ee2"
      },
      "execution_count": null,
      "outputs": [
        {
          "output_type": "stream",
          "name": "stdout",
          "text": [
            "updating: content/bert-base-portuchines-lm/ (stored 0%)\n",
            "updating: content/bert-base-portuchines-lm/training_args.bin (deflated 48%)\n",
            "updating: content/bert-base-portuchines-lm/generation_config.json (deflated 8%)\n",
            "updating: content/bert-base-portuchines-lm/config.json (deflated 53%)\n",
            "updating: content/bert-base-portuchines-lm/added_tokens.json (deflated 69%)\n",
            "updating: content/bert-base-portuchines-lm/special_tokens_map.json (deflated 42%)\n",
            "updating: content/bert-base-portuchines-lm/tokenizer_config.json (deflated 41%)\n",
            "updating: content/bert-base-portuchines-lm/vocab.txt (deflated 48%)\n",
            "updating: content/bert-base-portuchines-lm/pytorch_model.bin (deflated 7%)\n",
            "updating: content/bert-base-portuchines-lm/tokenizer.json (deflated 76%)\n"
          ]
        }
      ]
    },
    {
      "cell_type": "code",
      "source": [
        "from google.colab import drive\n",
        "drive.mount('/content/drive', force_remount=True)\n",
        "!cp /content/bert-base-portuchines-lm.zip /content/drive/MyDrive"
      ],
      "metadata": {
        "colab": {
          "base_uri": "https://localhost:8080/"
        },
        "id": "hAm_Ey-O1H4h",
        "outputId": "a08b186b-abcf-4ae3-d853-129dbf22e077"
      },
      "execution_count": null,
      "outputs": [
        {
          "output_type": "stream",
          "name": "stdout",
          "text": [
            "Mounted at /content/drive\n"
          ]
        }
      ]
    },
    {
      "cell_type": "code",
      "source": [],
      "metadata": {
        "id": "96lRoIC2lULL"
      },
      "execution_count": null,
      "outputs": []
    },
    {
      "cell_type": "markdown",
      "source": [
        "## Carregando o modelo"
      ],
      "metadata": {
        "id": "6HzqxQ0zVSIv"
      }
    },
    {
      "cell_type": "code",
      "source": [
        "from google.colab import drive\n",
        "drive.mount('/content/drive')\n",
        "!cp /content/drive/MyDrive/bert-base-portuchines-lm.zip /content"
      ],
      "metadata": {
        "id": "lhRRIP9y193q",
        "colab": {
          "base_uri": "https://localhost:8080/"
        },
        "outputId": "7795b47c-7929-49aa-b98c-f8aad4c55e65"
      },
      "execution_count": null,
      "outputs": [
        {
          "output_type": "stream",
          "name": "stdout",
          "text": [
            "Mounted at /content/drive\n"
          ]
        }
      ]
    },
    {
      "cell_type": "code",
      "source": [
        "!unzip bert-base-portuchines-lm.zip -d /content/bert-base-portuchines-lm"
      ],
      "metadata": {
        "colab": {
          "base_uri": "https://localhost:8080/"
        },
        "id": "6U_ZRudGWLDF",
        "outputId": "b018857e-d53d-4c68-f5ae-a563fe2bf10f"
      },
      "execution_count": null,
      "outputs": [
        {
          "output_type": "stream",
          "name": "stdout",
          "text": [
            "Archive:  bert-base-portuchines-lm.zip\n",
            "   creating: /content/bert-base-portuchines-lm/content/bert-base-portuchines-lm/\n",
            "  inflating: /content/bert-base-portuchines-lm/content/bert-base-portuchines-lm/training_args.bin  \n",
            "  inflating: /content/bert-base-portuchines-lm/content/bert-base-portuchines-lm/generation_config.json  \n",
            "  inflating: /content/bert-base-portuchines-lm/content/bert-base-portuchines-lm/config.json  \n",
            "  inflating: /content/bert-base-portuchines-lm/content/bert-base-portuchines-lm/added_tokens.json  \n",
            "  inflating: /content/bert-base-portuchines-lm/content/bert-base-portuchines-lm/special_tokens_map.json  \n",
            "  inflating: /content/bert-base-portuchines-lm/content/bert-base-portuchines-lm/tokenizer_config.json  \n",
            "  inflating: /content/bert-base-portuchines-lm/content/bert-base-portuchines-lm/vocab.txt  \n",
            "  inflating: /content/bert-base-portuchines-lm/content/bert-base-portuchines-lm/pytorch_model.bin  \n",
            "  inflating: /content/bert-base-portuchines-lm/content/bert-base-portuchines-lm/tokenizer.json  \n"
          ]
        }
      ]
    },
    {
      "cell_type": "code",
      "source": [
        "from transformers import AutoTokenizer, AutoModelForMaskedLM\n",
        "\n",
        "path = \"/content/bert-base-portuchines-lm/content/bert-base-portuchines-lm\"\n",
        "\n",
        "model = AutoModelForMaskedLM.from_pretrained(path)\n",
        "tokenizer = AutoTokenizer.from_pretrained(path)"
      ],
      "metadata": {
        "id": "H3KjciR4V_6F"
      },
      "execution_count": null,
      "outputs": []
    },
    {
      "cell_type": "code",
      "source": [
        "from transformers import pipeline\n",
        "\n",
        "classifier = pipeline(task=\"fill-mask\", model=model, tokenizer=tokenizer)"
      ],
      "metadata": {
        "id": "LKj7O3KkWHSi"
      },
      "execution_count": null,
      "outputs": []
    },
    {
      "cell_type": "markdown",
      "source": [
        "## Capacidade de Generalização\n",
        "\n",
        "Vamos testar a hipótese de que o modelo anterior foi capaz de manter o conhecimento que detinha sobre o mandarim. Assim, além de decorar as regras do portuchinês, ele seria capaz de ir além do dataset de treino."
      ],
      "metadata": {
        "id": "fIN8SCugr06k"
      }
    },
    {
      "cell_type": "code",
      "source": [
        "text = \"elas 和 ela [MASK] 不 ver ver seis 太 个 maçã divertido 了 怎么\""
      ],
      "metadata": {
        "id": "sQzyMR86YUn3"
      },
      "execution_count": null,
      "outputs": []
    },
    {
      "cell_type": "markdown",
      "source": [
        "### Experimento 1: sinônimos\n",
        "\n",
        "Como podemos ver ele foi capaz de prever corretamente o modificador 都 que significa o ambos. E deu quase nenhuma significânica para os seguintes tokens:\n",
        "- 均 = [equal; even; all; uniform](https://www.purpleculture.net/dictionary-details/?word=%E5%9D%87)\n",
        "- 皆 = [all; each and every; in all cases](https://www.purpleculture.net/dictionary-details/?word=%E7%9A%86)\n",
        "\n",
        "Embora não sejam os tokens usados em portuchinês, eles carregam um valor semântico muito semelhante ao 都.\n"
      ],
      "metadata": {
        "id": "g9SyATOrsQ2q"
      }
    },
    {
      "cell_type": "code",
      "source": [
        "classifier(text)"
      ],
      "metadata": {
        "colab": {
          "base_uri": "https://localhost:8080/"
        },
        "id": "PalByAdSYdc8",
        "outputId": "99adb669-1822-4524-a6a5-5574c2a0c56a"
      },
      "execution_count": null,
      "outputs": [
        {
          "output_type": "execute_result",
          "data": {
            "text/plain": [
              "[{'score': 0.9998607635498047,\n",
              "  'token': 6963,\n",
              "  'token_str': '都',\n",
              "  'sequence': 'elas 和 ela 都 不 ver ver seis 太 个 maçã divertido 了 怎 么'},\n",
              " {'score': 4.679344056057744e-05,\n",
              "  'token': 1772,\n",
              "  'token_str': '均',\n",
              "  'sequence': 'elas 和 ela 均 不 ver ver seis 太 个 maçã divertido 了 怎 么'},\n",
              " {'score': 3.289724554633722e-05,\n",
              "  'token': 4639,\n",
              "  'token_str': '皆',\n",
              "  'sequence': 'elas 和 ela 皆 不 ver ver seis 太 个 maçã divertido 了 怎 么'},\n",
              " {'score': 1.0306255717296153e-05,\n",
              "  'token': 21257,\n",
              "  'token_str': 'amanhã',\n",
              "  'sequence': 'elas 和 ela amanhã 不 ver ver seis 太 个 maçã divertido 了 怎 么'},\n",
              " {'score': 9.489191143075004e-06,\n",
              "  'token': 21195,\n",
              "  'token_str': 'universidade',\n",
              "  'sequence': 'elas 和 ela universidade 不 ver ver seis 太 个 maçã divertido 了 怎 么'}]"
            ]
          },
          "metadata": {},
          "execution_count": 51
        }
      ]
    },
    {
      "cell_type": "markdown",
      "source": [
        "### Experimento 2: Aspecto Temporal\n",
        "\n",
        "Nesse caso, dada uma frase completa em mandarim ele foi capaz de prever que os tokens mais prováveis são sujeitos. Isso pode ser devido a estrutura Sujeito + Verbo + Predicado do chinês mas também apenas um víes por conta dos exemplos em nosso dataset sintético."
      ],
      "metadata": {
        "id": "KssW5NRIt04K"
      }
    },
    {
      "cell_type": "code",
      "source": [
        "# 他 下午 的 家 的 老师 看 狗 -> Ele vê o cachorro de tarde na casa do seu professor\n",
        "text = \"[MASK] 下午 的 家 的 老师 看 狗\"\n",
        "classifier(text)"
      ],
      "metadata": {
        "colab": {
          "base_uri": "https://localhost:8080/"
        },
        "id": "UBHT6A4NYfIb",
        "outputId": "84ebea23-3263-47fb-817b-99b53d7912a9"
      },
      "execution_count": null,
      "outputs": [
        {
          "output_type": "execute_result",
          "data": {
            "text/plain": [
              "[{'score': 0.09712351858615875,\n",
              "  'token': 21133,\n",
              "  'token_str': 'Diego',\n",
              "  'sequence': 'Diego 下 午 的 家 的 老 师 看 狗'},\n",
              " {'score': 0.07632485777139664,\n",
              "  'token': 21204,\n",
              "  'token_str': 'nós',\n",
              "  'sequence': 'nós 下 午 的 家 的 老 师 看 狗'},\n",
              " {'score': 0.0671427920460701,\n",
              "  'token': 21174,\n",
              "  'token_str': 'elas',\n",
              "  'sequence': 'elas 下 午 的 家 的 老 师 看 狗'},\n",
              " {'score': 0.06393009424209595,\n",
              "  'token': 21214,\n",
              "  'token_str': 'duzia',\n",
              "  'sequence': 'duzia 下 午 的 家 的 老 师 看 狗'},\n",
              " {'score': 0.04846171289682388,\n",
              "  'token': 21151,\n",
              "  'token_str': 'aluno',\n",
              "  'sequence': 'aluno 下 午 的 家 的 老 师 看 狗'}]"
            ]
          },
          "metadata": {},
          "execution_count": 29
        }
      ]
    },
    {
      "cell_type": "markdown",
      "source": [
        "Adicionando um sujeito e apenas ocultando o aspecto temporal da frase 下午 (de tarde) vemos que o modelo tem dificuldade de prever uma token adequado para esse contexto."
      ],
      "metadata": {
        "id": "oe99g3gMuUFm"
      }
    },
    {
      "cell_type": "code",
      "source": [
        "# 他 下午 的 家 的 老师 看 狗 -> Ele vê o cachorro de tarde na casa do seu professor\n",
        "text = \"ele [MASK] 的 家 的 老师 看 狗\"\n",
        "classifier(text)"
      ],
      "metadata": {
        "colab": {
          "base_uri": "https://localhost:8080/"
        },
        "id": "h96P_Lg3a4Lp",
        "outputId": "2c85eaf7-7a16-4f40-ee40-d623488facd2"
      },
      "execution_count": null,
      "outputs": [
        {
          "output_type": "execute_result",
          "data": {
            "text/plain": [
              "[{'score': 0.1102064698934555,\n",
              "  'token': 21143,\n",
              "  'token_str': 'emocionante',\n",
              "  'sequence': 'ele emocionante 的 家 的 老 师 看 狗'},\n",
              " {'score': 0.10568329691886902,\n",
              "  'token': 21233,\n",
              "  'token_str': 'bonito',\n",
              "  'sequence': 'ele bonito 的 家 的 老 师 看 狗'},\n",
              " {'score': 0.06731356680393219,\n",
              "  'token': 21209,\n",
              "  'token_str': 'gostar',\n",
              "  'sequence': 'ele gostar 的 家 的 老 师 看 狗'},\n",
              " {'score': 0.05627993494272232,\n",
              "  'token': 21205,\n",
              "  'token_str': 'legal',\n",
              "  'sequence': 'ele legal 的 家 的 老 师 看 狗'},\n",
              " {'score': 0.053923364728689194,\n",
              "  'token': 21160,\n",
              "  'token_str': 'divertido',\n",
              "  'sequence': 'ele divertido 的 家 的 老 师 看 狗'}]"
            ]
          },
          "metadata": {},
          "execution_count": 30
        }
      ]
    },
    {
      "cell_type": "markdown",
      "source": [
        "Porém, quando especificamos o local em que a situação está ocorrendo - casa. O aspecto temporal na sentença torna-se mais provável e ele prevê com 26% de probabilidade que o token a ser inserido nessa frase é **hoje**. Representando quando a ação ocorre. Esse tipo de estrutura é muito comum no mandarim, porém temos poucas evidências para dizer que o modelo generalizou essa estrutura gramatical."
      ],
      "metadata": {
        "id": "UX89efLQul9R"
      }
    },
    {
      "cell_type": "code",
      "source": [
        "# 他 下午 的 家 的 老师 看 狗 -> Ele vê o cachorro de tarde na casa do seu professor\n",
        "text = \"ele [MASK] 的 casa 的 老师 看 狗\"\n",
        "classifier(text)"
      ],
      "metadata": {
        "colab": {
          "base_uri": "https://localhost:8080/"
        },
        "id": "1JtFQC2bnhU9",
        "outputId": "9b1b71f2-9d2a-4ef1-f23a-da205b8a4eb9"
      },
      "execution_count": null,
      "outputs": [
        {
          "output_type": "execute_result",
          "data": {
            "text/plain": [
              "[{'score': 0.2659077048301697,\n",
              "  'token': 21223,\n",
              "  'token_str': 'hoje',\n",
              "  'sequence': 'ele hoje 的 casa 的 老 师 看 狗'},\n",
              " {'score': 0.0596453920006752,\n",
              "  'token': 21144,\n",
              "  'token_str': 'casa',\n",
              "  'sequence': 'ele casa 的 casa 的 老 师 看 狗'},\n",
              " {'score': 0.052265942096710205,\n",
              "  'token': 21209,\n",
              "  'token_str': 'gostar',\n",
              "  'sequence': 'ele gostar 的 casa 的 老 师 看 狗'},\n",
              " {'score': 0.051000356674194336,\n",
              "  'token': 21142,\n",
              "  'token_str': 'USP',\n",
              "  'sequence': 'ele USP 的 casa 的 老 师 看 狗'},\n",
              " {'score': 0.038024697452783585,\n",
              "  'token': 21257,\n",
              "  'token_str': 'amanhã',\n",
              "  'sequence': 'ele amanhã 的 casa 的 老 师 看 狗'}]"
            ]
          },
          "metadata": {},
          "execution_count": 35
        }
      ]
    },
    {
      "cell_type": "markdown",
      "source": [
        "### Experimento 3: Sujeito + Verbo + Predicado\n",
        "\n",
        "Vamos verificar se o modelo é capaz de prever adequadamente frases bastantes simples do nosso cotidiano. Em especial, a frase **eu amo você** que em mandarim é escrita **我爱你**. Como essa frase é quase que universal seria muito fofo se nosso modelo fosse capaz de ter aprendido 😍.\n",
        "\n",
        "Em nosso dataset sintético, banana é um objeto que aparece em diversos exemplos. Logo, quando mascaramos o verbo na frase \"eu como banana\" ele prevê quase que majoritariamente verbos para preencher a mascára."
      ],
      "metadata": {
        "id": "qlsYZJSjv1Gy"
      }
    },
    {
      "cell_type": "code",
      "source": [
        "# 我吃香蕉 -> Eu como banana\n",
        "\n",
        "text = \"我[MASK]香蕉\"\n",
        "classifier(text)"
      ],
      "metadata": {
        "colab": {
          "base_uri": "https://localhost:8080/"
        },
        "id": "bFmnYtltn-n-",
        "outputId": "6eaeacae-a3c7-41df-eda3-e34574438f46"
      },
      "execution_count": null,
      "outputs": [
        {
          "output_type": "execute_result",
          "data": {
            "text/plain": [
              "[{'score': 0.18662407994270325,\n",
              "  'token': 21209,\n",
              "  'token_str': 'gostar',\n",
              "  'sequence': '我 gostar 香 蕉'},\n",
              " {'score': 0.10336712747812271,\n",
              "  'token': 21197,\n",
              "  'token_str': 'achar',\n",
              "  'sequence': '我 achar 香 蕉'},\n",
              " {'score': 0.05663851276040077,\n",
              "  'token': 679,\n",
              "  'token_str': '不',\n",
              "  'sequence': '我 不 香 蕉'},\n",
              " {'score': 0.054894380271434784,\n",
              "  'token': 21180,\n",
              "  'token_str': 'desejar',\n",
              "  'sequence': '我 desejar 香 蕉'},\n",
              " {'score': 0.04194311052560806,\n",
              "  'token': 21179,\n",
              "  'token_str': 'amar',\n",
              "  'sequence': '我 amar 香 蕉'}]"
            ]
          },
          "metadata": {},
          "execution_count": 45
        }
      ]
    },
    {
      "cell_type": "markdown",
      "source": [
        "Porém, diferente do [bert-base-chinese](https://huggingface.co/bert-base-chinese?text=%E6%88%91%5BMASK%5D%E4%BD%A0) original, que previu com 80% de probabilidade que o verbo entre eu e você é o amar rs. "
      ],
      "metadata": {
        "id": "6lHX6oIMxdIp"
      }
    },
    {
      "cell_type": "markdown",
      "source": [
        "![image.png](data:image/png;base64,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)"
      ],
      "metadata": {
        "id": "dyWphtFFxUTL"
      }
    },
    {
      "cell_type": "markdown",
      "source": [
        "Nosso modelo não foi capaz de fazer essa generalização. Inclusive, como os tokens 我 e 你 não estão presentes em nosso dataset sintético, ele deve ter entendido que se tratavam de dois substantivos e por causa da gramática limitada do portuchinês previu adjetivos entre eles."
      ],
      "metadata": {
        "id": "6K5idlk_xy6R"
      }
    },
    {
      "cell_type": "code",
      "source": [
        "# 我爱你 -> Eu amo você\n",
        "\n",
        "text = \"我[MASK]你\"\n",
        "classifier(text)"
      ],
      "metadata": {
        "colab": {
          "base_uri": "https://localhost:8080/"
        },
        "id": "ZwJDz29yqaVT",
        "outputId": "689d24a5-1c73-49d7-e71f-7423728a8504"
      },
      "execution_count": null,
      "outputs": [
        {
          "output_type": "execute_result",
          "data": {
            "text/plain": [
              "[{'score': 0.45152050256729126,\n",
              "  'token': 21205,\n",
              "  'token_str': 'legal',\n",
              "  'sequence': '我 legal 你'},\n",
              " {'score': 0.11002440005540848,\n",
              "  'token': 21143,\n",
              "  'token_str': 'emocionante',\n",
              "  'sequence': '我 emocionante 你'},\n",
              " {'score': 0.10259989649057388,\n",
              "  'token': 21160,\n",
              "  'token_str': 'divertido',\n",
              "  'sequence': '我 divertido 你'},\n",
              " {'score': 0.08403856307268143,\n",
              "  'token': 21196,\n",
              "  'token_str': 'exuberante',\n",
              "  'sequence': '我 exuberante 你'},\n",
              " {'score': 0.07965714484453201,\n",
              "  'token': 21233,\n",
              "  'token_str': 'bonito',\n",
              "  'sequence': '我 bonito 你'}]"
            ]
          },
          "metadata": {},
          "execution_count": 47
        }
      ]
    },
    {
      "cell_type": "markdown",
      "source": [
        "## Conclusões\n",
        "\n",
        "Apesar do nosso modelo de linguagem natural ter sido capaz de aprender a sintaxe do portuchinês, uma língua limitada e com dataset criado sintéticamente, obtivemos poucas evidências de que o conhecimento adquirido no treinamento do modelo BERT em vários corpora chineses seria transferido para o nosso. No entanto, a abordagem poderia ser melhorada criando um conjunto de dados sintéticos mais rico e combinando palavras do português e do mandarim.\n",
        "\n",
        "### Possíveis melhorias\n",
        "\n",
        "- Melhorar o gerador de dataset sintético com mais formas gramáticas, verbos, objetos, etc;\n",
        "- Diminuir o learning rate e adicionar mais épocas;\n",
        "- Adicionar textos de ambas os idiomas para não causar esquecimento no bert-based-chinese.\n",
        "- Treinar outras tarefas como NER que não foram realizadas por falta de tempo 🤫\n"
      ],
      "metadata": {
        "id": "jYI_h_3hygiI"
      }
    },
    {
      "cell_type": "code",
      "source": [],
      "metadata": {
        "id": "6VxWTxfVyjE-"
      },
      "execution_count": null,
      "outputs": []
    }
  ]
}